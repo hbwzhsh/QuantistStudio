{
 "cells": [
  {
   "cell_type": "code",
   "execution_count": 10,
   "metadata": {},
   "outputs": [],
   "source": [
    "# _*_ coding:utf-8 _*_\n",
    "import matplotlib.pyplot as plt\n",
    "import seaborn as sns\n",
    "import numpy as np"
   ]
  },
  {
   "cell_type": "code",
   "execution_count": 5,
   "metadata": {},
   "outputs": [
    {
     "data": {
      "image/png": "[encoded data removed]",
      "text/plain": [
       "<matplotlib.figure.Figure at 0x7f9c02a7a160>"
      ]
     },
     "metadata": {},
     "output_type": "display_data"
    }
   ],
   "source": [
    "X = [[6],[8],[10],[14],[18]]\n",
    "Y = [[7],[9],[13],[17.5],[18]]\n",
    "plt.figure()\n",
    "plt.title(\"Pizza price plotted against diameter\")\n",
    "plt.xlabel(\"Diameter in inches\")\n",
    "plt.ylabel(\"Price in dollars\")\n",
    "plt.plot(X, Y, \"k.\")\n",
    "plt.axis([0,25,0,25])\n",
    "plt.grid(True)\n",
    "plt.show()"
   ]
  },
  {
   "cell_type": "code",
   "execution_count": 10,
   "metadata": {
    "collapsed": true
   },
   "outputs": [
    {
     "name": "stdout",
     "output_type": "stream",
     "text": [
      "pizza should cost:$13.68\n"
     ]
    }
   ],
   "source": [
    "from sklearn.linear_model import LinearRegression\n",
    "model = LinearRegression()\n",
    "model.fit(X,Y)\n",
    "print(\"pizza should cost:$%.2f\"%model.predict([12]))"
   ]
  },
  {
   "cell_type": "code",
   "execution_count": 16,
   "metadata": {},
   "outputs": [
    {
     "name": "stdout",
     "output_type": "stream",
     "text": [
      "Residual sum of squares: 1.75\n"
     ]
    }
   ],
   "source": [
    "print(\"Residual sum of squares: %.2f\"%np.mean((model.predict(X)-Y)**2))"
   ]
  },
  {
   "cell_type": "code",
   "execution_count": 33,
   "metadata": {},
   "outputs": [
    {
     "name": "stdout",
     "output_type": "stream",
     "text": [
      "variance = 23.2\n",
      " variance_with_var = 23.2 \n",
      "22.65\n",
      "22.65\n",
      "0.976293103448\n"
     ]
    }
   ],
   "source": [
    "from __future__ import division\n",
    "xbar = (6+8+10+14+18)/5\n",
    "variance = ((6-xbar)**2 + (8-xbar)**2 + (10-xbar)**2 + (14-xbar)**2  + (18-xbar)**2 ) / 4\n",
    "print(\"variance = {0}\".format(variance))\n",
    "variance2 = np.var([6,8,10,14,18],ddof=1) #23.2\n",
    "print(\" variance_with_var = {0} \".format(variance2))\n",
    "\n",
    "xbar = (6+8+10+14+18)/5\n",
    "ybar = (7+9+13+17.5+18)/5\n",
    "cov = ((6-xbar)*(7-ybar) + (8-xbar)*(9-ybar) + (10-xbar)*(13-ybar) + (14-xbar)*(17.5-ybar) + (18-xbar)*(18-ybar)) / 4\n",
    "print(cov)\n",
    "cov2 = np.cov([6,8,10,14,18],[7,9,13,17.5,18])[0][1] #22.65\n",
    "print(cov2)\n",
    "\n",
    "beta = cov2 / variance2 \n",
    "print(beta) #0.976"
   ]
  },
  {
   "cell_type": "code",
   "execution_count": 34,
   "metadata": {},
   "outputs": [
    {
     "name": "stdout",
     "output_type": "stream",
     "text": [
      "R-squared:0.6031\n"
     ]
    }
   ],
   "source": [
    "X = [[6],[8],[10],[14],[18]]\n",
    "Y = [[7],[9],[13],[17.5],[18]]\n",
    "X_test = [[7],[9],[11],[16],[12]]\n",
    "Y_test = [[11],[8.5],[15],[18],[11]]\n",
    "model = LinearRegression()\n",
    "model.fit(X,Y)\n",
    "print(\"R-squared:%.4f\"%model.score(X_test,Y_test))"
   ]
  },
  {
   "cell_type": "code",
   "execution_count": 40,
   "metadata": {},
   "outputs": [
    {
     "name": "stdout",
     "output_type": "stream",
     "text": [
      "[[ 1.1875    ]\n",
      " [ 1.01041667]\n",
      " [ 0.39583333]]\n"
     ]
    }
   ],
   "source": [
    "from numpy.linalg import inv\n",
    "from numpy import dot, transpose\n",
    "X = [[1,6,2],[1,8,1],[1,10,0],[1,14,2],[1,18,0]]\n",
    "Y = [[7],[9],[13],[17.5],[18]]\n",
    "print(dot(inv(dot(transpose(X),X)),dot(transpose(X),Y)))"
   ]
  },
  {
   "cell_type": "code",
   "execution_count": 44,
   "metadata": {},
   "outputs": [
    {
     "name": "stdout",
     "output_type": "stream",
     "text": [
      "[[ 1.1875    ]\n",
      " [ 1.01041667]\n",
      " [ 0.39583333]]\n"
     ]
    }
   ],
   "source": [
    "from numpy.linalg import lstsq\n",
    "X = [[1,6,2],[1,8,1],[1,10,0],[1,14,2],[1,18,0]]\n",
    "Y = [[7],[9],[13],[17.5],[18]]\n",
    "print(lstsq(X,Y)[0])"
   ]
  },
  {
   "cell_type": "code",
   "execution_count": null,
   "metadata": {},
   "outputs": [
    {
     "name": "stdout",
     "output_type": "stream",
     "text": [
      "Predictes:[ 10.0625],Target:[11]\n",
      "Predictes:[ 10.28125],Target:[8.5]\n",
      "Predictes:[ 13.09375],Target:[15]\n",
      "Predictes:[ 18.14583333],Target:[18]\n",
      "Predictes:[ 13.3125],Target:[11]\n",
      "R-squared:0.77\n"
     ]
    }
   ],
   "source": [
    "from sklearn.linear_model import LinearRegression\n",
    "X = [[6,2],[8,1],[10,0],[14,2],[18,0]]\n",
    "Y = [[7],[9],[13],[17.5],[18]]\n",
    "model = LinearRegression()\n",
    "model.fit(X,Y)\n",
    "\n",
    "X_test = [[8,2],[9,0],[11,2],[16,2],[12,0]]\n",
    "Y_test = [[11],[8.5],[15],[18],[11]]\n",
    "\n",
    "predictions = model.predict(X_test)\n",
    "for i,prediction in enumerate(predictions):\n",
    "    print(\"Predictes:%s,Target:%s\"%(prediction,Y_test[i]))\n",
    "print(\"R-squared:%.2f\"%model.score(X_test,Y_test))"
   ]
  },
  {
   "cell_type": "code",
   "execution_count": 46,
   "metadata": {},
   "outputs": [],
   "source": []
  },
  {
   "cell_type": "code",
   "execution_count": 47,
   "metadata": {},
   "outputs": [],
   "source": []
  },
  {
   "cell_type": "code",
   "execution_count": 47,
   "metadata": {},
   "outputs": [],
   "source": []
  },
  {
   "cell_type": "code",
   "execution_count": null,
   "metadata": {},
   "outputs": [],
   "source": []
  }
 ],
 "metadata": {
  "kernelspec": {
   "display_name": "Python 3",
   "language": "python",
   "name": "python3"
  },
  "language_info": {
   "codemirror_mode": {
    "name": "ipython",
    "version": 3
   },
   "file_extension": ".py",
   "mimetype": "text/x-python",
   "name": "python",
   "nbconvert_exporter": "python",
   "pygments_lexer": "ipython3",
   "version": "3.5.1"
  }
 },
 "nbformat": 4,
 "nbformat_minor": 1
}
