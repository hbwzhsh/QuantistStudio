{
 "cells": [
  {
   "cell_type": "code",
   "execution_count": 1,
   "metadata": {},
   "outputs": [],
   "source": [
    "# _*_ coding:utf-8 _*_\n",
    "import tensorflow as tf\n",
    "import numpy as np\n",
    "%matplotlib inline"
   ]
  },
  {
   "cell_type": "code",
   "execution_count": 2,
   "metadata": {},
   "outputs": [],
   "source": [
    "# y = x^2 - 0.5\n",
    "def add_layer(input_data, input_size, output_size, activation_function=None):\n",
    "    weights = tf.Variable(tf.random_normal([input_size, output_size]))\n",
    "    biases = tf.Variable(tf.zeros([1,output_size]) + 0.1)\n",
    "    wx_plus_b = tf.matmul(input_data, weights) + biases\n",
    "    if activation_function is None:\n",
    "        output = wx_plus_b\n",
    "    else:\n",
    "        output = activation_function(wx_plus_b)\n",
    "    return output"
   ]
  },
  {
   "cell_type": "code",
   "execution_count": 5,
   "metadata": {},
   "outputs": [
    {
     "name": "stdout",
     "output_type": "stream",
     "text": [
      "0 0.0656846\n",
      "50 0.00755786\n",
      "100 0.00664234\n",
      "150 0.0058829\n",
      "200 0.00516745\n",
      "250 0.0045875\n",
      "300 0.00418368\n",
      "350 0.00388205\n",
      "400 0.00366205\n",
      "450 0.00349371\n",
      "500 0.0033611\n",
      "550 0.0032592\n",
      "600 0.0031781\n",
      "650 0.00311082\n",
      "700 0.00305424\n",
      "750 0.00300558\n",
      "800 0.00296659\n",
      "850 0.00293506\n",
      "900 0.00290597\n",
      "950 0.00287682\n",
      "1000 0.00285213\n"
     ]
    }
   ],
   "source": [
    "x_data = np.linspace(-1,1,1000)[:,np.newaxis]\n",
    "noise = np.random.normal(0, 0.05, x_data.shape)\n",
    "y_data = np.square(x_data) - 0.5 + noise\n",
    "xs = tf.placeholder(tf.float32,[None,1])\n",
    "ys = tf.placeholder(tf.float32,[None,1])\n",
    "layer1 = add_layer(xs,1,10,tf.nn.relu)\n",
    "prediction = add_layer(layer1,10,1,None)\n",
    "loss = tf.reduce_mean(tf.square(ys - prediction))\n",
    "train_step = tf.train.GradientDescentOptimizer(0.1).minimize(loss)\n",
    "init = tf.global_variables_initializer()\n",
    "with tf.Session() as sess:\n",
    "    sess.run(init)\n",
    "    for step in range(1001):\n",
    "        sess.run(train_step,feed_dict={xs:x_data,ys:y_data})\n",
    "        if step%50 == 0:\n",
    "            print(step,sess.run(loss,feed_dict={xs:x_data,ys:y_data}))"
   ]
  },
  {
   "cell_type": "code",
   "execution_count": null,
   "metadata": {},
   "outputs": [],
   "source": []
  }
 ],
 "metadata": {
  "kernelspec": {
   "display_name": "Python 3",
   "language": "python",
   "name": "python3"
  },
  "language_info": {
   "codemirror_mode": {
    "name": "ipython",
    "version": 3
   },
   "file_extension": ".py",
   "mimetype": "text/x-python",
   "name": "python",
   "nbconvert_exporter": "python",
   "pygments_lexer": "ipython3",
   "version": "3.5.1"
  }
 },
 "nbformat": 4,
 "nbformat_minor": 2
}
