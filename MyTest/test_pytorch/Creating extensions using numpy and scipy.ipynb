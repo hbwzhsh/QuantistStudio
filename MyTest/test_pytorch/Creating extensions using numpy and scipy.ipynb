{
 "cells": [
  {
   "cell_type": "code",
   "execution_count": 1,
   "metadata": {
    "collapsed": true
   },
   "outputs": [],
   "source": [
    "import torch\n",
    "from torch.autograd import Function\n",
    "from torch.autograd import Variable"
   ]
  },
  {
   "cell_type": "code",
   "execution_count": 2,
   "metadata": {},
   "outputs": [],
   "source": [
    "# Parameter-less example\n",
    "\n",
    "from numpy.fft import rfft2, irfft2\n",
    "\n",
    "\n",
    "class BadFFTFunction(Function):\n",
    "\n",
    "    def forward(self, input):\n",
    "        numpy_input = input.numpy()\n",
    "        result = abs(rfft2(numpy_input))\n",
    "        return torch.FloatTensor(result)\n",
    "\n",
    "    def backward(self, grad_output):\n",
    "        numpy_go = grad_output.numpy()\n",
    "        result = irfft2(numpy_go)\n",
    "        return torch.FloatTensor(result)\n",
    "\n",
    "# since this layer does not have any parameters, we can\n",
    "# simply declare this as a function, rather than as an nn.Module class\n",
    "\n",
    "\n",
    "def incorrect_fft(input):\n",
    "    return BadFFTFunction()(input)"
   ]
  },
  {
   "cell_type": "code",
   "execution_count": 3,
   "metadata": {},
   "outputs": [
    {
     "name": "stdout",
     "output_type": "stream",
     "text": [
      "\n  6.8588   9.5525   7.9841   2.8806  12.0924\n  1.7423   2.5442   5.2907  14.8600   4.1375\n 11.7613   3.1875   2.2128   7.2097   6.7645\n  7.3674  10.4123   3.8119   5.6222   7.8309\n  7.4967   0.8123   5.8453   8.1193  16.5027\n  7.3674  12.5861   6.2285   5.2712   7.8309\n 11.7613   1.2707   6.8687   5.4283   6.7645\n  1.7423  11.2106   4.1893   7.1905   4.1375\n[torch.FloatTensor of size 8x5]\n\nVariable containing:\n 0.1086  0.1009 -0.0471 -0.0078  0.1361 -0.0078 -0.0471  0.1009\n-0.0674  0.0455  0.0523 -0.0335  0.1619 -0.1309 -0.0858  0.2233\n 0.2692 -0.0024 -0.0193  0.2196 -0.2154 -0.3030 -0.0429 -0.1246\n 0.0246  0.0781  0.1144 -0.1674 -0.0332  0.2231 -0.0808  0.0858\n-0.2110 -0.0919 -0.1999  0.1392  0.3285  0.1392 -0.1999 -0.0919\n 0.0246  0.0858 -0.0808  0.2231 -0.0332 -0.1674  0.1144  0.0781\n 0.2692 -0.1246 -0.0429 -0.3030 -0.2154  0.2196 -0.0193 -0.0024\n-0.0674  0.2233 -0.0858 -0.1309  0.1619 -0.0335  0.0523  0.0455\n[torch.FloatTensor of size 8x8]\n\n"
     ]
    }
   ],
   "source": [
    "input = Variable(torch.randn(8, 8), requires_grad=True)\n",
    "result = incorrect_fft(input)\n",
    "print(result.data)\n",
    "result.backward(torch.randn(result.size()))\n",
    "print(input.grad)"
   ]
  },
  {
   "cell_type": "code",
   "execution_count": 4,
   "metadata": {},
   "outputs": [],
   "source": [
    "# Parametrized example\n",
    "\n",
    "from scipy.signal import convolve2d, correlate2d\n",
    "from torch.nn.modules.module import Module\n",
    "from torch.nn.parameter import Parameter\n",
    "\n",
    "\n",
    "class ScipyConv2dFunction(Function):\n",
    "\n",
    "    def forward(self, input, filter):\n",
    "        result = correlate2d(input.numpy(), filter.numpy(), mode='valid')\n",
    "        self.save_for_backward(input, filter)\n",
    "        return torch.FloatTensor(result)\n",
    "\n",
    "    def backward(self, grad_output):\n",
    "        input, filter = self.saved_tensors\n",
    "        grad_input = convolve2d(grad_output.numpy(), filter.t().numpy(), mode='full')\n",
    "        grad_filter = convolve2d(input.numpy(), grad_output.numpy(), mode='valid')\n",
    "        return torch.FloatTensor(grad_input), torch.FloatTensor(grad_filter)\n",
    "\n",
    "\n",
    "class ScipyConv2d(Module):\n",
    "\n",
    "    def __init__(self, kh, kw):\n",
    "        super(ScipyConv2d, self).__init__()\n",
    "        self.filter = Parameter(torch.randn(kh, kw))\n",
    "\n",
    "    def forward(self, input):\n",
    "        return ScipyConv2dFunction()(input, self.filter)"
   ]
  },
  {
   "cell_type": "code",
   "execution_count": 5,
   "metadata": {},
   "outputs": [
    {
     "name": "stdout",
     "output_type": "stream",
     "text": [
      "[Parameter containing:\n 0.2725 -0.2817  0.1157\n-0.1808  0.3620 -0.0478\n-0.9202  0.1223 -0.2714\n[torch.FloatTensor of size 3x3]\n]\nVariable containing:\n 0.1253  0.6888 -1.1041  0.2030  0.1879 -0.1882  0.0959  0.2377\n-0.1341 -0.5954 -0.9443 -1.2079 -0.0058 -0.2759  1.3677  0.0510\n 0.6825 -0.6854  0.0778  0.3036  0.2354 -1.0283  1.1369 -0.7911\n-0.4420  1.1664 -0.8897  1.9818  2.2564  0.4604 -1.4295  0.5643\n-0.5910 -0.4363  0.6603 -0.9424  1.0148  0.8080 -0.5390  1.4721\n-0.1394 -1.2209 -0.3980  0.0518 -0.2115 -0.6316  0.4584  1.0215\n 1.5436  1.4514  0.0699  2.6585  0.5521  0.7643  1.3757  1.4045\n-0.1154 -2.0398  0.2820  0.1142 -2.1098 -0.1444 -1.2546  2.4765\n[torch.FloatTensor of size 8x8]\n\nVariable containing:\n 0.1534  0.3503 -0.5697 -1.6099 -0.8139 -0.0340 -0.6373 -0.6907  0.4703 -0.6276\n-0.2122 -0.4150  0.4637  1.0650  0.7771  0.5896  1.4773  0.1563  1.3614  0.3508\n-0.1531  0.0284  1.1692  0.1714 -0.6412  1.5286  1.9874 -0.0075 -1.0116  0.4074\n 0.2928 -0.4348 -0.6240  2.6402 -0.5040 -2.0272 -1.1014  0.1432  1.6645  0.8271\n 0.4127 -0.1118 -1.8736 -0.2110  0.2226 -0.2695  0.4807  1.5774 -1.6461 -2.3452\n-0.3154  0.6038 -1.0247  0.6672 -0.0081 -0.7119 -0.9572 -0.5425  2.4900  0.3010\n 0.2176 -0.0228 -0.7755 -0.2196 -0.1074 -1.2026 -1.4549 -1.8171 -1.1045 -0.4164\n 0.1926 -0.1159 -1.1424  0.1925 -0.8188  0.3026  2.0605  2.0797  0.2678 -1.1214\n-0.2429  0.5880 -0.4247  0.3421  0.3711 -0.5729 -0.9836 -1.0510  0.1365  0.2113\n 0.1415 -0.1246 -0.2273  0.0820 -0.3530  0.0467  0.4773  0.4338 -0.0119 -0.2974\n[torch.FloatTensor of size 10x10]\n\n"
     ]
    }
   ],
   "source": [
    "module = ScipyConv2d(3, 3)\n",
    "print(list(module.parameters()))\n",
    "input = Variable(torch.randn(10, 10), requires_grad=True)\n",
    "output = module(input)\n",
    "print(output)\n",
    "output.backward(torch.randn(8, 8))\n",
    "print(input.grad)"
   ]
  },
  {
   "cell_type": "code",
   "execution_count": null,
   "metadata": {},
   "outputs": [],
   "source": []
  }
 ],
 "metadata": {
  "kernelspec": {
   "display_name": "Python 2",
   "language": "python",
   "name": "python2"
  },
  "language_info": {
   "codemirror_mode": {
    "name": "ipython",
    "version": 2
   },
   "file_extension": ".py",
   "mimetype": "text/x-python",
   "name": "python",
   "nbconvert_exporter": "python",
   "pygments_lexer": "ipython2",
   "version": "2.7.6"
  }
 },
 "nbformat": 4,
 "nbformat_minor": 0
}
