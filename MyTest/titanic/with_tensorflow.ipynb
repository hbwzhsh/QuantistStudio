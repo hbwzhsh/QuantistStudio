{
 "cells": [
  {
   "cell_type": "code",
   "execution_count": 26,
   "metadata": {},
   "outputs": [],
   "source": [
    "# _*_ coding:utf-8 _*_\n",
    "import numpy as np\n",
    "import pandas as pd\n",
    "import matplotlib.pyplot as plt\n",
    "import seaborn as sns\n",
    "import math\n",
    "import pylab as p\n",
    "import tensorflow as tf\n",
    "%matplotlib inline"
   ]
  },
  {
   "cell_type": "code",
   "execution_count": 3,
   "metadata": {},
   "outputs": [],
   "source": [
    "data = pd.read_csv(\"train.csv\")"
   ]
  },
  {
   "cell_type": "code",
   "execution_count": 5,
   "metadata": {},
   "outputs": [
    {
     "name": "stdout",
     "output_type": "stream",
     "text": [
      "        PassengerId    Survived      Pclass                        Name   Sex  \\\n",
      "count    891.000000  891.000000  891.000000                         891   891   \n",
      "unique          NaN         NaN         NaN                         891     2   \n",
      "top             NaN         NaN         NaN  Johanson, Mr. Jakob Alfred  male   \n",
      "freq            NaN         NaN         NaN                           1   577   \n",
      "mean     446.000000    0.383838    2.308642                         NaN   NaN   \n",
      "std      257.353842    0.486592    0.836071                         NaN   NaN   \n",
      "min        1.000000    0.000000    1.000000                         NaN   NaN   \n",
      "25%      223.500000    0.000000    2.000000                         NaN   NaN   \n",
      "50%      446.000000    0.000000    3.000000                         NaN   NaN   \n",
      "75%      668.500000    1.000000    3.000000                         NaN   NaN   \n",
      "max      891.000000    1.000000    3.000000                         NaN   NaN   \n",
      "\n",
      "               Age       SibSp       Parch Ticket        Fare Cabin Embarked  \n",
      "count   714.000000  891.000000  891.000000    891  891.000000   204      889  \n",
      "unique         NaN         NaN         NaN    681         NaN   147        3  \n",
      "top            NaN         NaN         NaN   1601         NaN    G6        S  \n",
      "freq           NaN         NaN         NaN      7         NaN     4      644  \n",
      "mean     29.699118    0.523008    0.381594    NaN   32.204208   NaN      NaN  \n",
      "std      14.526497    1.102743    0.806057    NaN   49.693429   NaN      NaN  \n",
      "min       0.420000    0.000000    0.000000    NaN    0.000000   NaN      NaN  \n",
      "25%            NaN    0.000000    0.000000    NaN    7.910400   NaN      NaN  \n",
      "50%            NaN    0.000000    0.000000    NaN   14.454200   NaN      NaN  \n",
      "75%            NaN    1.000000    0.000000    NaN   31.000000   NaN      NaN  \n",
      "max      80.000000    8.000000    6.000000    NaN  512.329200   NaN      NaN  \n"
     ]
    },
    {
     "name": "stderr",
     "output_type": "stream",
     "text": [
      "/home/liu/py3venv/lib/python3.5/site-packages/numpy/lib/function_base.py:4274: RuntimeWarning: Invalid value encountered in percentile\n",
      "  interpolation=interpolation)\n"
     ]
    }
   ],
   "source": [
    "print(data.describe(include='all'))"
   ]
  },
  {
   "cell_type": "code",
   "execution_count": 8,
   "metadata": {},
   "outputs": [
    {
     "name": "stdout",
     "output_type": "stream",
     "text": [
      "<class 'pandas.core.frame.DataFrame'>\n",
      "RangeIndex: 891 entries, 0 to 890\n",
      "Data columns (total 12 columns):\n",
      "PassengerId    891 non-null int64\n",
      "Survived       891 non-null int64\n",
      "Pclass         891 non-null int64\n",
      "Name           891 non-null object\n",
      "Sex            891 non-null object\n",
      "Age            714 non-null float64\n",
      "SibSp          891 non-null int64\n",
      "Parch          891 non-null int64\n",
      "Ticket         891 non-null object\n",
      "Fare           891 non-null float64\n",
      "Cabin          204 non-null object\n",
      "Embarked       889 non-null object\n",
      "dtypes: float64(2), int64(5), object(5)\n",
      "memory usage: 83.6+ KB\n",
      "None\n"
     ]
    }
   ],
   "source": [
    "print(data.info())"
   ]
  },
  {
   "cell_type": "code",
   "execution_count": 19,
   "metadata": {},
   "outputs": [],
   "source": [
    "def slice_by_survived(f):\n",
    "    survived_feature = data['Survived']\n",
    "    alive = data[(survived_feature == 1)&(f.isnull() == False)][feature]\n",
    "    dead = data[(survived_feature == 0)&(f.isnull() == False)][feature]\n",
    "    return np.array(alive,dtype='float'),np.array(dead,dtype='float')"
   ]
  },
  {
   "cell_type": "code",
   "execution_count": 20,
   "metadata": {},
   "outputs": [
    {
     "data": {
      "text/plain": [
       "array([ 0.,  1.,  1.,  1.,  0.,  0.,  0.,  0.])"
      ]
     },
     "execution_count": 20,
     "metadata": {},
     "output_type": "execute_result"
    }
   ],
   "source": [
    "alive = data['Survived']\n",
    "np.array(alive.head(8),dtype='float')"
   ]
  },
  {
   "cell_type": "code",
   "execution_count": 10,
   "metadata": {},
   "outputs": [],
   "source": [
    "numerical_features = [\n",
    "    ['Age'],\n",
    "    ['Fare'],\n",
    "    ['Parch'],\n",
    "    ['SibSp']\n",
    "]"
   ]
  },
  {
   "cell_type": "code",
   "execution_count": 27,
   "metadata": {},
   "outputs": [
    {
     "data": {
      "image/png": "[encoded data removed]",
      "text/plain": [
       "<matplotlib.figure.Figure at 0x7fe602a21da0>"
      ]
     },
     "metadata": {},
     "output_type": "display_data"
    },
    {
     "data": {
      "text/plain": [
       "<matplotlib.figure.Figure at 0x7fe602598c88>"
      ]
     },
     "metadata": {},
     "output_type": "display_data"
    },
    {
     "data": {
      "image/png": "[encoded data removed]",
      "text/plain": [
       "<matplotlib.figure.Figure at 0x7fe60259bd68>"
      ]
     },
     "metadata": {},
     "output_type": "display_data"
    },
    {
     "data": {
      "text/plain": [
       "<matplotlib.figure.Figure at 0x7fe602537278>"
      ]
     },
     "metadata": {},
     "output_type": "display_data"
    },
    {
     "data": {
      "image/png": "[encoded data removed]",
      "text/plain": [
       "<matplotlib.figure.Figure at 0x7fe60253e358>"
      ]
     },
     "metadata": {},
     "output_type": "display_data"
    },
    {
     "data": {
      "text/plain": [
       "<matplotlib.figure.Figure at 0x7fe6024dd9e8>"
      ]
     },
     "metadata": {},
     "output_type": "display_data"
    },
    {
     "data": {
      "image/png": "[encoded data removed]",
      "text/plain": [
       "<matplotlib.figure.Figure at 0x7fe6024e2ac8>"
      ]
     },
     "metadata": {},
     "output_type": "display_data"
    },
    {
     "data": {
      "text/plain": [
       "<matplotlib.figure.Figure at 0x7fe602500f98>"
      ]
     },
     "metadata": {},
     "output_type": "display_data"
    }
   ],
   "source": [
    "for features in numerical_features:\n",
    "    f = None\n",
    "    for feature in features:\n",
    "        if f is None:\n",
    "            f = data[feature]\n",
    "        else:\n",
    "            f *= data[feature]\n",
    "        alive,dead = slice_by_survived(f)\n",
    "        plt.figure()\n",
    "        plt.title('X'.join(features))\n",
    "        plt.bar([0,1],[alive.mean(),dead.mean()],color=['blue','red'])\n",
    "        plt.figure()"
   ]
  },
  {
   "cell_type": "code",
   "execution_count": 28,
   "metadata": {},
   "outputs": [
    {
     "data": {
      "image/png": "[encoded data removed]",
      "text/plain": [
       "<matplotlib.figure.Figure at 0x7fe60d5e2470>"
      ]
     },
     "metadata": {},
     "output_type": "display_data"
    },
    {
     "data": {
      "image/png": "[encoded data removed]",
      "text/plain": [
       "<matplotlib.figure.Figure at 0x7fe60249ad68>"
      ]
     },
     "metadata": {},
     "output_type": "display_data"
    },
    {
     "data": {
      "image/png": "[encoded data removed]",
      "text/plain": [
       "<matplotlib.figure.Figure at 0x7fe6023eaac8>"
      ]
     },
     "metadata": {},
     "output_type": "display_data"
    },
    {
     "data": {
      "image/png": "[encoded data removed]",
      "text/plain": [
       "<matplotlib.figure.Figure at 0x7fe6023be4a8>"
      ]
     },
     "metadata": {},
     "output_type": "display_data"
    }
   ],
   "source": [
    "for feature in numerical_features:\n",
    "    data[feature].hist()\n",
    "    p.show()"
   ]
  },
  {
   "cell_type": "code",
   "execution_count": 29,
   "metadata": {},
   "outputs": [],
   "source": [
    "def CrossFeature(features):\n",
    "    f = None\n",
    "    d = data[features + ['Survived']].dropna()\n",
    "    out = pd.DataFrame()\n",
    "    for feature in features:\n",
    "        s = pd.Series(str(x) for x in data[feature])\n",
    "        if f is None:\n",
    "            f = s\n",
    "        else:\n",
    "            f += s\n",
    "    name = 'X'.join(features)\n",
    "    out['Survived'] = d['Survived']\n",
    "    out[name] = f\n",
    "    return out[name], out['Survived']"
   ]
  },
  {
   "cell_type": "code",
   "execution_count": 30,
   "metadata": {},
   "outputs": [],
   "source": [
    "categorical_features = [\n",
    "    ['Pclass'],\n",
    "    ['Sex'],\n",
    "    ['Embarked'],\n",
    "    ['Pclass','Sex']\n",
    "]"
   ]
  },
  {
   "cell_type": "code",
   "execution_count": 37,
   "metadata": {},
   "outputs": [
    {
     "name": "stdout",
     "output_type": "stream",
     "text": [
      "['Pclass']\n",
      "['Sex']\n",
      "['Embarked']\n",
      "['Pclass', 'Sex']\n"
     ]
    },
    {
     "data": {
      "image/png": "[encoded data removed]",
      "text/plain": [
       "<matplotlib.figure.Figure at 0x7fe60245cef0>"
      ]
     },
     "metadata": {},
     "output_type": "display_data"
    },
    {
     "data": {
      "image/png": "[encoded data removed]",
      "text/plain": [
       "<matplotlib.figure.Figure at 0x7fe602269fd0>"
      ]
     },
     "metadata": {},
     "output_type": "display_data"
    },
    {
     "data": {
      "image/png": "[encoded data removed]",
      "text/plain": [
       "<matplotlib.figure.Figure at 0x7fe60d7686d8>"
      ]
     },
     "metadata": {},
     "output_type": "display_data"
    },
    {
     "data": {
      "image/png": "[encoded data removed]",
      "text/plain": [
       "<matplotlib.figure.Figure at 0x7fe6023ea320>"
      ]
     },
     "metadata": {},
     "output_type": "display_data"
    }
   ],
   "source": [
    "for features in categorical_features:\n",
    "    print(features)\n",
    "    f,surv = CrossFeature(features)\n",
    "    classes = list(x for x in set(f) if type(x) != float or not math.isnan(x))\n",
    "    distribution = [(f == c).sum() for c in classes]\n",
    "    outcome = [(len(f[(f == c)&(surv == 1)]),len(f[(f == c)&(surv == 0)])) for c in classes]\n",
    "    positions = []\n",
    "    label_positions = []\n",
    "    offset = 0\n",
    "    heights = []\n",
    "    color = []\n",
    "    for out in outcome:\n",
    "        positions.append(0.2 + offset)\n",
    "        positions.append(1.0 + offset)\n",
    "        color += ['b','r']\n",
    "        heights.extend(out)\n",
    "        label_positions.append(1 + offset)\n",
    "        offset += 2\n",
    "    fig,ax = plt.subplots()\n",
    "    ax.set_title('X'.join(features))\n",
    "    rects = ax.bar(positions,heights,color=color)\n",
    "    ax.set_xticks(label_positions)\n",
    "    ax.set_xticklabels(classes)"
   ]
  },
  {
   "cell_type": "code",
   "execution_count": 39,
   "metadata": {},
   "outputs": [],
   "source": [
    "def PrepareAge(data):\n",
    "    age = data['Age'].copy()\n",
    "    mean_age = age.mean()\n",
    "    print('Mean age:{}'.format(mean_age))\n",
    "    age[age.isnull()] = mean_age\n",
    "    return age"
   ]
  },
  {
   "cell_type": "code",
   "execution_count": 43,
   "metadata": {},
   "outputs": [],
   "source": [
    "def PrepareCat(data,feature):\n",
    "    f = data[feature]\n",
    "    classes = sorted(x for x in set(f) if type(x) != float or not math.isnan(x))\n",
    "    print(classes)\n",
    "    if len(classes) <= 2:\n",
    "        out = pd.DataFrame({feature:(f == classes[0]).map({True:1,False:0})})\n",
    "        return out\n",
    "    ones = np.ones(len(f))\n",
    "    out = pd.DataFrame({('{}_{}'.format(feature,c)):(f == c).map({True:1,False:0}) for c in classes})\n",
    "    return out"
   ]
  },
  {
   "cell_type": "code",
   "execution_count": 44,
   "metadata": {},
   "outputs": [],
   "source": [
    "def Merge(d1,d2):\n",
    "    output = pd.DataFrame()\n",
    "    for f in d1:\n",
    "        output[f] = d1[f].copy()\n",
    "    for f in d2:\n",
    "        output[f] = d2[f].copy()\n",
    "    return output"
   ]
  },
  {
   "cell_type": "code",
   "execution_count": 45,
   "metadata": {},
   "outputs": [
    {
     "name": "stdout",
     "output_type": "stream",
     "text": [
      "['C', 'Q', 'S']\n",
      "       Embarked_C  Embarked_Q  Embarked_S\n",
      "count  891.000000  891.000000  891.000000\n",
      "mean     0.188552    0.086420    0.722783\n",
      "std      0.391372    0.281141    0.447876\n",
      "min      0.000000    0.000000    0.000000\n",
      "25%      0.000000    0.000000    0.000000\n",
      "50%      0.000000    0.000000    1.000000\n",
      "75%      0.000000    0.000000    1.000000\n",
      "max      1.000000    1.000000    1.000000\n"
     ]
    }
   ],
   "source": [
    "print(PrepareCat(data,'Embarked').describe())"
   ]
  },
  {
   "cell_type": "code",
   "execution_count": 52,
   "metadata": {},
   "outputs": [],
   "source": [
    "def CrossCat(data,features):\n",
    "    name = '*'.join(features)\n",
    "    p = None\n",
    "    for f in features:\n",
    "        s = pd.Series(str(x) for x in data[f])\n",
    "        p = s if p is None else (p + '*' + s)\n",
    "        p[data[f].isnull()] = math.nan\n",
    "    out = pd.DataFrame()\n",
    "    out[name] = p\n",
    "    return PrepareCat(out, name)"
   ]
  },
  {
   "cell_type": "code",
   "execution_count": 54,
   "metadata": {},
   "outputs": [],
   "source": [
    "def PrepareFeatures(data):\n",
    "    output =pd.DataFrame()\n",
    "    output['Age'] = PrepareAge(data)/80\n",
    "    output['Fare'] = data['Fare']/512\n",
    "    output['Parch'] = data['Parch']/6\n",
    "    output['SibSp'] = data['SibSp']/8\n",
    "    output = Merge(output,PrepareCat(data,'Sex'))\n",
    "    output = Merge(output,PrepareCat(data,'Pclass'))\n",
    "    output = Merge(output,PrepareCat(data,'Embarked'))\n",
    "    output['Sex_Age'] = output['Age']*output['Sex']\n",
    "    output['Sex_Fare'] = output['Fare']*output['Sex']\n",
    "    output = Merge(output,CrossCat(data,['Sex','Embarked']))\n",
    "    output = Merge(output,CrossCat(data,['Sex','Pclass']))\n",
    "    return output"
   ]
  },
  {
   "cell_type": "code",
   "execution_count": 48,
   "metadata": {},
   "outputs": [],
   "source": [
    "def PrepareTarget(data):\n",
    "    return np.array(data.Survived,dtype = 'int8').reshape(-1,1)"
   ]
  },
  {
   "cell_type": "code",
   "execution_count": 59,
   "metadata": {},
   "outputs": [
    {
     "name": "stdout",
     "output_type": "stream",
     "text": [
      "Mean age:29.69911764705882\n",
      "['female', 'male']\n",
      "[1, 2, 3]\n",
      "['C', 'Q', 'S']\n",
      "['female*C', 'female*Q', 'female*S', 'male*C', 'male*Q', 'male*S']\n",
      "['female*1', 'female*2', 'female*3', 'male*1', 'male*2', 'male*3']\n",
      "----------training_data Age-----------------\n",
      "Empty DataFrame\n",
      "Columns: [Age, Fare, Parch, SibSp, Sex, Pclass_1, Pclass_2, Pclass_3, Embarked_C, Embarked_Q, Embarked_S, Sex_Age, Sex_Fare, Sex*Embarked_female*C, Sex*Embarked_female*Q, Sex*Embarked_female*S, Sex*Embarked_male*C, Sex*Embarked_male*Q, Sex*Embarked_male*S, Sex*Pclass_female*1, Sex*Pclass_female*2, Sex*Pclass_female*3, Sex*Pclass_male*1, Sex*Pclass_male*2, Sex*Pclass_male*3]\n",
      "Index: []\n",
      "\n",
      "[0 rows x 25 columns]\n",
      "-----------describe----------------\n",
      "              Age        Fare       Parch       SibSp         Sex    Pclass_1  \\\n",
      "count  891.000000  891.000000  891.000000  891.000000  891.000000  891.000000   \n",
      "mean     0.371239    0.062899    0.063599    0.065376    0.352413    0.242424   \n",
      "std      0.162525    0.097057    0.134343    0.137843    0.477990    0.428790   \n",
      "min      0.005250    0.000000    0.000000    0.000000    0.000000    0.000000   \n",
      "25%      0.275000    0.015450    0.000000    0.000000    0.000000    0.000000   \n",
      "50%      0.371239    0.028231    0.000000    0.000000    0.000000    0.000000   \n",
      "75%      0.437500    0.060547    0.000000    0.125000    1.000000    0.000000   \n",
      "max      1.000000    1.000643    1.000000    1.000000    1.000000    1.000000   \n",
      "\n",
      "         Pclass_2    Pclass_3  Embarked_C  Embarked_Q        ...          \\\n",
      "count  891.000000  891.000000  891.000000  891.000000        ...           \n",
      "mean     0.206510    0.551066    0.188552    0.086420        ...           \n",
      "std      0.405028    0.497665    0.391372    0.281141        ...           \n",
      "min      0.000000    0.000000    0.000000    0.000000        ...           \n",
      "25%      0.000000    0.000000    0.000000    0.000000        ...           \n",
      "50%      0.000000    1.000000    0.000000    0.000000        ...           \n",
      "75%      0.000000    1.000000    0.000000    0.000000        ...           \n",
      "max      1.000000    1.000000    1.000000    1.000000        ...           \n",
      "\n",
      "       Sex*Embarked_female*S  Sex*Embarked_male*C  Sex*Embarked_male*Q  \\\n",
      "count             891.000000           891.000000           891.000000   \n",
      "mean                0.227834             0.106622             0.046016   \n",
      "std                 0.419670             0.308805             0.209637   \n",
      "min                 0.000000             0.000000             0.000000   \n",
      "25%                 0.000000             0.000000             0.000000   \n",
      "50%                 0.000000             0.000000             0.000000   \n",
      "75%                 0.000000             0.000000             0.000000   \n",
      "max                 1.000000             1.000000             1.000000   \n",
      "\n",
      "       Sex*Embarked_male*S  Sex*Pclass_female*1  Sex*Pclass_female*2  \\\n",
      "count           891.000000           891.000000           891.000000   \n",
      "mean              0.494949             0.105499             0.085297   \n",
      "std               0.500255             0.307368             0.279481   \n",
      "min               0.000000             0.000000             0.000000   \n",
      "25%               0.000000             0.000000             0.000000   \n",
      "50%               0.000000             0.000000             0.000000   \n",
      "75%               1.000000             0.000000             0.000000   \n",
      "max               1.000000             1.000000             1.000000   \n",
      "\n",
      "       Sex*Pclass_female*3  Sex*Pclass_male*1  Sex*Pclass_male*2  \\\n",
      "count           891.000000         891.000000         891.000000   \n",
      "mean              0.161616           0.136925           0.121212   \n",
      "std               0.368305           0.343961           0.326557   \n",
      "min               0.000000           0.000000           0.000000   \n",
      "25%               0.000000           0.000000           0.000000   \n",
      "50%               0.000000           0.000000           0.000000   \n",
      "75%               0.000000           0.000000           0.000000   \n",
      "max               1.000000           1.000000           1.000000   \n",
      "\n",
      "       Sex*Pclass_male*3  \n",
      "count         891.000000  \n",
      "mean            0.389450  \n",
      "std             0.487899  \n",
      "min             0.000000  \n",
      "25%             0.000000  \n",
      "50%             0.000000  \n",
      "75%             1.000000  \n",
      "max             1.000000  \n",
      "\n",
      "[8 rows x 25 columns]\n",
      "-------------info--------------\n",
      "<class 'pandas.core.frame.DataFrame'>\n",
      "RangeIndex: 891 entries, 0 to 890\n",
      "Data columns (total 25 columns):\n",
      "Age                      891 non-null float64\n",
      "Fare                     891 non-null float64\n",
      "Parch                    891 non-null float64\n",
      "SibSp                    891 non-null float64\n",
      "Sex                      891 non-null int64\n",
      "Pclass_1                 891 non-null int64\n",
      "Pclass_2                 891 non-null int64\n",
      "Pclass_3                 891 non-null int64\n",
      "Embarked_C               891 non-null int64\n",
      "Embarked_Q               891 non-null int64\n",
      "Embarked_S               891 non-null int64\n",
      "Sex_Age                  891 non-null float64\n",
      "Sex_Fare                 891 non-null float64\n",
      "Sex*Embarked_female*C    891 non-null int64\n",
      "Sex*Embarked_female*Q    891 non-null int64\n",
      "Sex*Embarked_female*S    891 non-null int64\n",
      "Sex*Embarked_male*C      891 non-null int64\n",
      "Sex*Embarked_male*Q      891 non-null int64\n",
      "Sex*Embarked_male*S      891 non-null int64\n",
      "Sex*Pclass_female*1      891 non-null int64\n",
      "Sex*Pclass_female*2      891 non-null int64\n",
      "Sex*Pclass_female*3      891 non-null int64\n",
      "Sex*Pclass_male*1        891 non-null int64\n",
      "Sex*Pclass_male*2        891 non-null int64\n",
      "Sex*Pclass_male*3        891 non-null int64\n",
      "dtypes: float64(6), int64(19)\n",
      "memory usage: 174.1 KB\n",
      "None\n",
      "-------------traing_data--------------\n"
     ]
    },
    {
     "ename": "NameError",
     "evalue": "name 'traing_data' is not defined",
     "output_type": "error",
     "traceback": [
      "\u001b[0;31m---------------------------------------------------------------------------\u001b[0m",
      "\u001b[0;31mNameError\u001b[0m                                 Traceback (most recent call last)",
      "\u001b[0;32m<ipython-input-59-4196a7eb68e6>\u001b[0m in \u001b[0;36m<module>\u001b[0;34m()\u001b[0m\n\u001b[1;32m      9\u001b[0m \u001b[0mtraining_data\u001b[0m \u001b[0;34m=\u001b[0m \u001b[0mnp\u001b[0m\u001b[0;34m.\u001b[0m\u001b[0marray\u001b[0m\u001b[0;34m(\u001b[0m\u001b[0mtraining_data\u001b[0m\u001b[0;34m,\u001b[0m\u001b[0mdtype\u001b[0m\u001b[0;34m=\u001b[0m\u001b[0;34m'float32'\u001b[0m\u001b[0;34m)\u001b[0m\u001b[0;34m\u001b[0m\u001b[0m\n\u001b[1;32m     10\u001b[0m \u001b[0mprint\u001b[0m\u001b[0;34m(\u001b[0m\u001b[0;34m'-------------traing_data--------------'\u001b[0m\u001b[0;34m)\u001b[0m\u001b[0;34m\u001b[0m\u001b[0m\n\u001b[0;32m---> 11\u001b[0;31m \u001b[0mprint\u001b[0m\u001b[0;34m(\u001b[0m\u001b[0mtraing_data\u001b[0m\u001b[0;34m)\u001b[0m\u001b[0;34m\u001b[0m\u001b[0m\n\u001b[0m",
      "\u001b[0;31mNameError\u001b[0m: name 'traing_data' is not defined"
     ]
    }
   ],
   "source": [
    "training_data = PrepareFeatures(data)\n",
    "target_training_data = PrepareTarget(data)\n",
    "print('----------training_data Age-----------------')\n",
    "print(training_data[training_data['Age'].isnull()])\n",
    "print('-----------describe----------------')\n",
    "print(training_data.describe())\n",
    "print('-------------info--------------')\n",
    "print(training_data.info())\n",
    "training_data = np.array(training_data,dtype='float32')\n",
    "print('-------------traing_data--------------')\n",
    "print(traing_data)"
   ]
  },
  {
   "cell_type": "code",
   "execution_count": 69,
   "metadata": {},
   "outputs": [],
   "source": [
    "ITERATIONS = 40000\n",
    "LEARNING_RATE = 1e-4\n",
    "def weight_variable(shape):\n",
    "    initial = tf.truncated_normal(shape,stddev=0.1)\n",
    "    return tf.Variable(initial)"
   ]
  },
  {
   "cell_type": "code",
   "execution_count": 62,
   "metadata": {},
   "outputs": [],
   "source": [
    "def bias_variable(shape):\n",
    "    initial = tf.constant(0.1,shape=shape)\n",
    "    return tf.Variable(initial)"
   ]
  },
  {
   "cell_type": "code",
   "execution_count": 64,
   "metadata": {},
   "outputs": [
    {
     "name": "stdout",
     "output_type": "stream",
     "text": [
      "(?, 25)\n"
     ]
    }
   ],
   "source": [
    "feature_count = training_data.shape[1]\n",
    "x = tf.placeholder('float',shape=[None,feature_count],name='X')\n",
    "y_ = tf.placeholder('float',shape=[None,1],name='y_')\n",
    "print(x.get_shape())"
   ]
  },
  {
   "cell_type": "code",
   "execution_count": 66,
   "metadata": {},
   "outputs": [],
   "source": [
    "nodes = 20\n",
    "w1 = weight_variable([feature_count,nodes])\n",
    "b1 = bias_variable([nodes])\n",
    "l1 = tf.nn.relu(tf.matmul(x,w1) + b1)\n",
    "w2 = weight_variable([nodes,1])\n",
    "b2 = bias_variable([1])\n",
    "y = tf.nn.sigmoid(tf.matmul(l1,w2)+b2)\n",
    "cross_entropy = -tf.reduce_mean(y_*tf.log(tf.maximum(0.00001,y))+(1.0-y_)*tf.log(tf.maximum(0.00001,1.0-y)))\n",
    "reg = 0.01*(tf.reduce_mean(tf.square(w1)) + tf.reduce_mean(tf.square(w2)))\n",
    "predict = (y > 0.5)\n",
    "correct_prediction = tf.equal(predict,(y_>0.5))\n",
    "accuracy = tf.reduce_mean(tf.cast(correct_prediction,'float'))"
   ]
  },
  {
   "cell_type": "code",
   "execution_count": 72,
   "metadata": {},
   "outputs": [
    {
     "name": "stdout",
     "output_type": "stream",
     "text": [
      "WARNING:tensorflow:From /home/liu/py3venv/lib/python3.5/site-packages/tensorflow/python/util/tf_should_use.py:175: initialize_all_variables (from tensorflow.python.ops.variables) is deprecated and will be removed after 2017-03-02.\n",
      "Instructions for updating:\n",
      "Use `tf.global_variables_initializer` instead.\n"
     ]
    },
    {
     "name": "stderr",
     "output_type": "stream",
     "text": [
      "WARNING:tensorflow:From /home/liu/py3venv/lib/python3.5/site-packages/tensorflow/python/util/tf_should_use.py:175: initialize_all_variables (from tensorflow.python.ops.variables) is deprecated and will be removed after 2017-03-02.\n",
      "Instructions for updating:\n",
      "Use `tf.global_variables_initializer` instead.\n"
     ]
    },
    {
     "name": "stdout",
     "output_type": "stream",
     "text": [
      "0 0.705345869064331 38.38%\n",
      "1000 0.48497474193573 80.92%\n",
      "2000 0.4367712736129761 81.03%\n",
      "3000 0.4273250997066498 81.03%\n",
      "4000 0.4221540093421936 81.26%\n",
      "5000 0.41848883032798767 81.48%\n",
      "6000 0.4156060218811035 81.37%\n",
      "7000 0.4133716821670532 81.59%\n",
      "8000 0.41142749786376953 81.93%\n",
      "9000 0.4092599153518677 82.04%\n",
      "10000 0.40717071294784546 82.15%\n",
      "11000 0.40491992235183716 82.15%\n",
      "12000 0.40248653292655945 82.15%\n",
      "13000 0.39990174770355225 82.15%\n",
      "14000 0.3969874382019043 82.15%\n",
      "15000 0.3943586051464081 82.38%\n",
      "16000 0.39187005162239075 82.49%\n",
      "17000 0.3885454535484314 82.83%\n",
      "18000 0.3859557509422302 82.83%\n",
      "19000 0.38382139801979065 82.94%\n",
      "20000 0.38198375701904297 83.05%\n",
      "21000 0.38030025362968445 83.28%\n",
      "22000 0.37853044271469116 83.16%\n",
      "23000 0.3770707845687866 83.05%\n",
      "24000 0.37561821937561035 83.73%\n",
      "25000 0.3743337094783783 84.06%\n",
      "26000 0.37253570556640625 83.61%\n",
      "27000 0.3712114691734314 83.73%\n",
      "28000 0.3702872693538666 84.06%\n",
      "29000 0.36939388513565063 84.06%\n",
      "30000 0.36825060844421387 84.40%\n",
      "31000 0.36756113171577454 84.40%\n",
      "32000 0.36698633432388306 84.40%\n",
      "33000 0.3664883077144623 84.74%\n",
      "34000 0.36601558327674866 84.74%\n",
      "35000 0.36556851863861084 84.62%\n",
      "36000 0.36514854431152344 84.74%\n",
      "37000 0.3647520840167999 84.74%\n",
      "38000 0.36437028646469116 84.74%\n",
      "39000 0.3640262186527252 84.74%\n",
      "39999 0.36371538043022156 84.74%\n"
     ]
    }
   ],
   "source": [
    "train_step = tf.train.AdamOptimizer(LEARNING_RATE).minimize(cross_entropy + reg)\n",
    "init = tf.initialize_all_variables()\n",
    "sess = tf.Session()\n",
    "sess.run(init)\n",
    "for i in range(ITERATIONS):\n",
    "    feed = {x:training_data,y_:target_training_data}\n",
    "    sess.run(train_step,feed_dict=feed)\n",
    "    if i%1000 == 0 or i == ITERATIONS-1:\n",
    "        print('{} {} {:.2f}%'.format(i,sess.run(cross_entropy,feed_dict=feed),sess.run(accuracy,feed_dict=feed)*100.0))"
   ]
  },
  {
   "cell_type": "code",
   "execution_count": 73,
   "metadata": {},
   "outputs": [
    {
     "name": "stdout",
     "output_type": "stream",
     "text": [
      "        PassengerId      Pclass                 Name   Sex         Age  \\\n",
      "count    418.000000  418.000000                  418   418  332.000000   \n",
      "unique          NaN         NaN                  418     2         NaN   \n",
      "top             NaN         NaN  Sadowitz, Mr. Harry  male         NaN   \n",
      "freq            NaN         NaN                    1   266         NaN   \n",
      "mean    1100.500000    2.265550                  NaN   NaN   30.272590   \n",
      "std      120.810458    0.841838                  NaN   NaN   14.181209   \n",
      "min      892.000000    1.000000                  NaN   NaN    0.170000   \n",
      "25%      996.250000    1.000000                  NaN   NaN         NaN   \n",
      "50%     1100.500000    3.000000                  NaN   NaN         NaN   \n",
      "75%     1204.750000    3.000000                  NaN   NaN         NaN   \n",
      "max     1309.000000    3.000000                  NaN   NaN   76.000000   \n",
      "\n",
      "             SibSp       Parch    Ticket        Fare            Cabin Embarked  \n",
      "count   418.000000  418.000000       418  417.000000               91      418  \n",
      "unique         NaN         NaN       363         NaN               76        3  \n",
      "top            NaN         NaN  PC 17608         NaN  B57 B59 B63 B66        S  \n",
      "freq           NaN         NaN         5         NaN                3      270  \n",
      "mean      0.447368    0.392344       NaN   35.627188              NaN      NaN  \n",
      "std       0.896760    0.981429       NaN   55.907576              NaN      NaN  \n",
      "min       0.000000    0.000000       NaN    0.000000              NaN      NaN  \n",
      "25%       0.000000    0.000000       NaN         NaN              NaN      NaN  \n",
      "50%       0.000000    0.000000       NaN         NaN              NaN      NaN  \n",
      "75%       1.000000    0.000000       NaN         NaN              NaN      NaN  \n",
      "max       8.000000    9.000000       NaN  512.329200              NaN      NaN  \n"
     ]
    },
    {
     "name": "stderr",
     "output_type": "stream",
     "text": [
      "/home/liu/py3venv/lib/python3.5/site-packages/numpy/lib/function_base.py:4274: RuntimeWarning: Invalid value encountered in percentile\n",
      "  interpolation=interpolation)\n"
     ]
    }
   ],
   "source": [
    "test_data = pd.read_csv('test.csv')\n",
    "print(test_data.describe(include='all'))"
   ]
  },
  {
   "cell_type": "code",
   "execution_count": 74,
   "metadata": {},
   "outputs": [
    {
     "name": "stdout",
     "output_type": "stream",
     "text": [
      "Mean age:30.272590361445783\n",
      "['female', 'male']\n",
      "[1, 2, 3]\n",
      "['C', 'Q', 'S']\n",
      "['female*C', 'female*Q', 'female*S', 'male*C', 'male*Q', 'male*S']\n",
      "['female*1', 'female*2', 'female*3', 'male*1', 'male*2', 'male*3']\n",
      "          Age      Fare     Parch  SibSp  Sex  Pclass_1  Pclass_2  Pclass_3  \\\n",
      "0    0.431250  0.015291  0.000000  0.000    0         0         0         1   \n",
      "1    0.587500  0.013672  0.000000  0.125    1         0         0         1   \n",
      "2    0.775000  0.018921  0.000000  0.000    0         0         1         0   \n",
      "3    0.337500  0.016919  0.000000  0.000    0         0         0         1   \n",
      "4    0.275000  0.023999  0.166667  0.125    1         0         0         1   \n",
      "5    0.175000  0.018018  0.000000  0.000    0         0         0         1   \n",
      "6    0.375000  0.014901  0.000000  0.000    1         0         0         1   \n",
      "7    0.325000  0.056641  0.166667  0.125    0         0         1         0   \n",
      "8    0.225000  0.014120  0.000000  0.000    1         0         0         1   \n",
      "9    0.262500  0.047168  0.000000  0.250    0         0         0         1   \n",
      "10   0.378407  0.015421  0.000000  0.000    0         0         0         1   \n",
      "11   0.575000  0.050781  0.000000  0.000    0         1         0         0   \n",
      "12   0.287500  0.160677  0.000000  0.125    1         1         0         0   \n",
      "13   0.787500  0.050781  0.000000  0.125    0         0         1         0   \n",
      "14   0.587500  0.119482  0.000000  0.125    1         1         0         0   \n",
      "15   0.300000  0.054142  0.000000  0.125    1         0         1         0   \n",
      "16   0.437500  0.024121  0.000000  0.000    0         0         1         0   \n",
      "17   0.262500  0.014111  0.000000  0.000    0         0         0         1   \n",
      "18   0.337500  0.015479  0.000000  0.125    1         0         0         1   \n",
      "19   0.562500  0.014111  0.000000  0.000    1         0         0         1   \n",
      "20   0.687500  0.116016  0.000000  0.125    0         1         0         0   \n",
      "21   0.112500  0.006193  0.166667  0.000    0         0         0         1   \n",
      "22   0.378407  0.061881  0.000000  0.000    1         1         0         0   \n",
      "23   0.262500  0.119881  0.166667  0.000    0         1         0         0   \n",
      "24   0.600000  0.512451  0.500000  0.125    1         1         0         0   \n",
      "25   0.625000  0.028320  0.000000  0.125    0         0         0         1   \n",
      "26   0.275000  0.121053  0.166667  0.000    1         1         0         0   \n",
      "27   0.281250  0.014111  0.000000  0.000    0         0         0         1   \n",
      "28   0.512500  0.059570  0.000000  0.000    0         1         0         0   \n",
      "29   0.378407  0.042342  0.000000  0.250    0         0         0         1   \n",
      "..        ...       ...       ...    ...  ...       ...       ...       ...   \n",
      "388  0.262500  0.015137  0.000000  0.000    0         0         0         1   \n",
      "389  0.075000  0.041162  0.166667  0.375    0         0         0         1   \n",
      "390  0.287500  0.182617  0.000000  0.000    0         1         0         0   \n",
      "391  0.637500  0.076953  0.166667  0.000    1         1         0         0   \n",
      "392  0.162500  0.039551  0.333333  0.000    0         0         0         1   \n",
      "393  0.587500  0.020508  0.000000  0.000    0         0         1         0   \n",
      "394  0.362500  0.043018  0.166667  0.375    0         0         0         1   \n",
      "395  0.225000  0.117188  0.000000  0.125    1         1         0         0   \n",
      "396  0.300000  0.014160  0.000000  0.000    0         0         0         1   \n",
      "397  0.600000  0.154688  0.166667  0.125    1         1         0         0   \n",
      "398  0.275000  0.015186  0.000000  0.000    0         0         0         1   \n",
      "399  0.387500  0.015104  0.000000  0.000    0         0         0         1   \n",
      "400  0.375000  0.322005  0.000000  0.000    1         1         0         0   \n",
      "401  0.475000  0.041016  0.000000  0.125    0         0         1         0   \n",
      "402  0.275000  0.116016  0.166667  0.000    1         1         0         0   \n",
      "403  0.212500  0.091992  0.000000  0.000    0         1         0         0   \n",
      "404  0.537500  0.054142  0.000000  0.125    0         1         0         0   \n",
      "405  0.250000  0.027075  0.000000  0.000    0         0         1         0   \n",
      "406  0.287500  0.020508  0.000000  0.125    0         0         1         0   \n",
      "407  0.625000  0.413086  0.166667  0.125    0         1         0         0   \n",
      "408  0.378407  0.015080  0.000000  0.000    1         0         0         1   \n",
      "409  0.037500  0.026904  0.166667  0.125    1         0         0         1   \n",
      "410  0.378407  0.015137  0.000000  0.000    1         0         0         1   \n",
      "411  0.462500  0.175781  0.000000  0.125    1         1         0         0   \n",
      "412  0.350000  0.015186  0.000000  0.000    1         0         0         1   \n",
      "413  0.378407  0.015723  0.000000  0.000    0         0         0         1   \n",
      "414  0.487500  0.212695  0.000000  0.000    1         1         0         0   \n",
      "415  0.481250  0.014160  0.000000  0.000    0         0         0         1   \n",
      "416  0.378407  0.015723  0.000000  0.000    0         0         0         1   \n",
      "417  0.378407  0.043669  0.166667  0.125    0         0         0         1   \n",
      "\n",
      "     Embarked_C  Embarked_Q        ...          Sex*Embarked_female*S  \\\n",
      "0             0           1        ...                              0   \n",
      "1             0           0        ...                              1   \n",
      "2             0           1        ...                              0   \n",
      "3             0           0        ...                              0   \n",
      "4             0           0        ...                              1   \n",
      "5             0           0        ...                              0   \n",
      "6             0           1        ...                              0   \n",
      "7             0           0        ...                              0   \n",
      "8             1           0        ...                              0   \n",
      "9             0           0        ...                              0   \n",
      "10            0           0        ...                              0   \n",
      "11            0           0        ...                              0   \n",
      "12            0           0        ...                              1   \n",
      "13            0           0        ...                              0   \n",
      "14            0           0        ...                              1   \n",
      "15            1           0        ...                              0   \n",
      "16            0           1        ...                              0   \n",
      "17            1           0        ...                              0   \n",
      "18            0           0        ...                              1   \n",
      "19            1           0        ...                              0   \n",
      "20            1           0        ...                              0   \n",
      "21            0           0        ...                              0   \n",
      "22            0           0        ...                              1   \n",
      "23            1           0        ...                              0   \n",
      "24            1           0        ...                              0   \n",
      "25            0           0        ...                              0   \n",
      "26            1           0        ...                              0   \n",
      "27            1           0        ...                              0   \n",
      "28            0           0        ...                              0   \n",
      "29            1           0        ...                              0   \n",
      "..          ...         ...        ...                            ...   \n",
      "388           0           1        ...                              0   \n",
      "389           0           0        ...                              0   \n",
      "390           0           0        ...                              0   \n",
      "391           0           0        ...                              1   \n",
      "392           0           0        ...                              0   \n",
      "393           0           0        ...                              0   \n",
      "394           0           0        ...                              0   \n",
      "395           0           0        ...                              1   \n",
      "396           0           1        ...                              0   \n",
      "397           1           0        ...                              0   \n",
      "398           0           0        ...                              0   \n",
      "399           0           1        ...                              0   \n",
      "400           0           0        ...                              1   \n",
      "401           0           0        ...                              0   \n",
      "402           1           0        ...                              0   \n",
      "403           0           0        ...                              0   \n",
      "404           1           0        ...                              0   \n",
      "405           1           0        ...                              0   \n",
      "406           0           0        ...                              0   \n",
      "407           1           0        ...                              0   \n",
      "408           0           1        ...                              0   \n",
      "409           0           0        ...                              1   \n",
      "410           0           1        ...                              0   \n",
      "411           0           1        ...                              0   \n",
      "412           0           0        ...                              1   \n",
      "413           0           0        ...                              0   \n",
      "414           1           0        ...                              0   \n",
      "415           0           0        ...                              0   \n",
      "416           0           0        ...                              0   \n",
      "417           1           0        ...                              0   \n",
      "\n",
      "     Sex*Embarked_male*C  Sex*Embarked_male*Q  Sex*Embarked_male*S  \\\n",
      "0                      0                    1                    0   \n",
      "1                      0                    0                    0   \n",
      "2                      0                    1                    0   \n",
      "3                      0                    0                    1   \n",
      "4                      0                    0                    0   \n",
      "5                      0                    0                    1   \n",
      "6                      0                    0                    0   \n",
      "7                      0                    0                    1   \n",
      "8                      0                    0                    0   \n",
      "9                      0                    0                    1   \n",
      "10                     0                    0                    1   \n",
      "11                     0                    0                    1   \n",
      "12                     0                    0                    0   \n",
      "13                     0                    0                    1   \n",
      "14                     0                    0                    0   \n",
      "15                     0                    0                    0   \n",
      "16                     0                    1                    0   \n",
      "17                     1                    0                    0   \n",
      "18                     0                    0                    0   \n",
      "19                     0                    0                    0   \n",
      "20                     1                    0                    0   \n",
      "21                     0                    0                    1   \n",
      "22                     0                    0                    0   \n",
      "23                     1                    0                    0   \n",
      "24                     0                    0                    0   \n",
      "25                     0                    0                    1   \n",
      "26                     0                    0                    0   \n",
      "27                     1                    0                    0   \n",
      "28                     0                    0                    1   \n",
      "29                     1                    0                    0   \n",
      "..                   ...                  ...                  ...   \n",
      "388                    0                    1                    0   \n",
      "389                    0                    0                    1   \n",
      "390                    0                    0                    1   \n",
      "391                    0                    0                    0   \n",
      "392                    0                    0                    1   \n",
      "393                    0                    0                    1   \n",
      "394                    0                    0                    1   \n",
      "395                    0                    0                    0   \n",
      "396                    0                    1                    0   \n",
      "397                    0                    0                    0   \n",
      "398                    0                    0                    1   \n",
      "399                    0                    1                    0   \n",
      "400                    0                    0                    0   \n",
      "401                    0                    0                    1   \n",
      "402                    0                    0                    0   \n",
      "403                    0                    0                    1   \n",
      "404                    1                    0                    0   \n",
      "405                    1                    0                    0   \n",
      "406                    0                    0                    1   \n",
      "407                    1                    0                    0   \n",
      "408                    0                    0                    0   \n",
      "409                    0                    0                    0   \n",
      "410                    0                    0                    0   \n",
      "411                    0                    0                    0   \n",
      "412                    0                    0                    0   \n",
      "413                    0                    0                    1   \n",
      "414                    0                    0                    0   \n",
      "415                    0                    0                    1   \n",
      "416                    0                    0                    1   \n",
      "417                    1                    0                    0   \n",
      "\n",
      "     Sex*Pclass_female*1  Sex*Pclass_female*2  Sex*Pclass_female*3  \\\n",
      "0                      0                    0                    0   \n",
      "1                      0                    0                    1   \n",
      "2                      0                    0                    0   \n",
      "3                      0                    0                    0   \n",
      "4                      0                    0                    1   \n",
      "5                      0                    0                    0   \n",
      "6                      0                    0                    1   \n",
      "7                      0                    0                    0   \n",
      "8                      0                    0                    1   \n",
      "9                      0                    0                    0   \n",
      "10                     0                    0                    0   \n",
      "11                     0                    0                    0   \n",
      "12                     1                    0                    0   \n",
      "13                     0                    0                    0   \n",
      "14                     1                    0                    0   \n",
      "15                     0                    1                    0   \n",
      "16                     0                    0                    0   \n",
      "17                     0                    0                    0   \n",
      "18                     0                    0                    1   \n",
      "19                     0                    0                    1   \n",
      "20                     0                    0                    0   \n",
      "21                     0                    0                    0   \n",
      "22                     1                    0                    0   \n",
      "23                     0                    0                    0   \n",
      "24                     1                    0                    0   \n",
      "25                     0                    0                    0   \n",
      "26                     1                    0                    0   \n",
      "27                     0                    0                    0   \n",
      "28                     0                    0                    0   \n",
      "29                     0                    0                    0   \n",
      "..                   ...                  ...                  ...   \n",
      "388                    0                    0                    0   \n",
      "389                    0                    0                    0   \n",
      "390                    0                    0                    0   \n",
      "391                    1                    0                    0   \n",
      "392                    0                    0                    0   \n",
      "393                    0                    0                    0   \n",
      "394                    0                    0                    0   \n",
      "395                    1                    0                    0   \n",
      "396                    0                    0                    0   \n",
      "397                    1                    0                    0   \n",
      "398                    0                    0                    0   \n",
      "399                    0                    0                    0   \n",
      "400                    1                    0                    0   \n",
      "401                    0                    0                    0   \n",
      "402                    1                    0                    0   \n",
      "403                    0                    0                    0   \n",
      "404                    0                    0                    0   \n",
      "405                    0                    0                    0   \n",
      "406                    0                    0                    0   \n",
      "407                    0                    0                    0   \n",
      "408                    0                    0                    1   \n",
      "409                    0                    0                    1   \n",
      "410                    0                    0                    1   \n",
      "411                    1                    0                    0   \n",
      "412                    0                    0                    1   \n",
      "413                    0                    0                    0   \n",
      "414                    1                    0                    0   \n",
      "415                    0                    0                    0   \n",
      "416                    0                    0                    0   \n",
      "417                    0                    0                    0   \n",
      "\n",
      "     Sex*Pclass_male*1  Sex*Pclass_male*2  Sex*Pclass_male*3  \n",
      "0                    0                  0                  1  \n",
      "1                    0                  0                  0  \n",
      "2                    0                  1                  0  \n",
      "3                    0                  0                  1  \n",
      "4                    0                  0                  0  \n",
      "5                    0                  0                  1  \n",
      "6                    0                  0                  0  \n",
      "7                    0                  1                  0  \n",
      "8                    0                  0                  0  \n",
      "9                    0                  0                  1  \n",
      "10                   0                  0                  1  \n",
      "11                   1                  0                  0  \n",
      "12                   0                  0                  0  \n",
      "13                   0                  1                  0  \n",
      "14                   0                  0                  0  \n",
      "15                   0                  0                  0  \n",
      "16                   0                  1                  0  \n",
      "17                   0                  0                  1  \n",
      "18                   0                  0                  0  \n",
      "19                   0                  0                  0  \n",
      "20                   1                  0                  0  \n",
      "21                   0                  0                  1  \n",
      "22                   0                  0                  0  \n",
      "23                   1                  0                  0  \n",
      "24                   0                  0                  0  \n",
      "25                   0                  0                  1  \n",
      "26                   0                  0                  0  \n",
      "27                   0                  0                  1  \n",
      "28                   1                  0                  0  \n",
      "29                   0                  0                  1  \n",
      "..                 ...                ...                ...  \n",
      "388                  0                  0                  1  \n",
      "389                  0                  0                  1  \n",
      "390                  1                  0                  0  \n",
      "391                  0                  0                  0  \n",
      "392                  0                  0                  1  \n",
      "393                  0                  1                  0  \n",
      "394                  0                  0                  1  \n",
      "395                  0                  0                  0  \n",
      "396                  0                  0                  1  \n",
      "397                  0                  0                  0  \n",
      "398                  0                  0                  1  \n",
      "399                  0                  0                  1  \n",
      "400                  0                  0                  0  \n",
      "401                  0                  1                  0  \n",
      "402                  0                  0                  0  \n",
      "403                  1                  0                  0  \n",
      "404                  1                  0                  0  \n",
      "405                  0                  1                  0  \n",
      "406                  0                  1                  0  \n",
      "407                  1                  0                  0  \n",
      "408                  0                  0                  0  \n",
      "409                  0                  0                  0  \n",
      "410                  0                  0                  0  \n",
      "411                  0                  0                  0  \n",
      "412                  0                  0                  0  \n",
      "413                  0                  0                  1  \n",
      "414                  0                  0                  0  \n",
      "415                  0                  0                  1  \n",
      "416                  0                  0                  1  \n",
      "417                  0                  0                  1  \n",
      "\n",
      "[418 rows x 25 columns]\n"
     ]
    }
   ],
   "source": [
    "test_feature = PrepareFeatures(test_data)\n",
    "print(test_feature)"
   ]
  },
  {
   "cell_type": "code",
   "execution_count": 81,
   "metadata": {},
   "outputs": [
    {
     "name": "stdout",
     "output_type": "stream",
     "text": [
      "   PassengerId  Survived\n",
      "0          892         0\n",
      "1          893         0\n",
      "2          894         0\n",
      "3          895         0\n",
      "4          896         0\n"
     ]
    }
   ],
   "source": [
    "predicted = sess.run(predict,feed_dict={x:test_feature})\n",
    "sol = pd.DataFrame()\n",
    "sol['PassengerId'] = test_data['PassengerId']\n",
    "sol['Survived'] = pd.Series(predicted.reshape(-1)).map({True:1,False:0})\n",
    "print(sol.head())"
   ]
  },
  {
   "cell_type": "code",
   "execution_count": null,
   "metadata": {},
   "outputs": [],
   "source": []
  }
 ],
 "metadata": {
  "kernelspec": {
   "display_name": "Python 3",
   "language": "python",
   "name": "python3"
  },
  "language_info": {
   "codemirror_mode": {
    "name": "ipython",
    "version": 3
   },
   "file_extension": ".py",
   "mimetype": "text/x-python",
   "name": "python",
   "nbconvert_exporter": "python",
   "pygments_lexer": "ipython3",
   "version": "3.5.1"
  }
 },
 "nbformat": 4,
 "nbformat_minor": 1
}
