{
 "cells": [
  {
   "cell_type": "code",
   "execution_count": 0,
   "metadata": {
    "collapsed": true
   },
   "outputs": [],
   "source": [
    "\"\"\"\n",
    "Money management\n",
    "\"\"\""
   ]
  },
  {
   "cell_type": "code",
   "execution_count": 1,
   "metadata": {},
   "outputs": [
    {
     "data": {
      "text/plain": [
       "'\\n # 调仓部分注意仓位控制，尽量满足80%股票仓位和单只股票不超过10%的条件\\n# 注意调仓需要在合理的universe中调仓\\n'"
      ]
     },
     "execution_count": 1,
     "metadata": {},
     "output_type": "execute_result"
    }
   ],
   "source": [
    "\"\"\"\n",
    " # 调仓部分注意仓位控制，尽量满足80%股票仓位和单只股票不超过10%的条件\n",
    "# 注意调仓需要在合理的universe中调仓\n",
    "\"\"\""
   ]
  },
  {
   "cell_type": "code",
   "execution_count": null,
   "metadata": {},
   "outputs": [],
   "source": [
    "\"\"\"\n",
    "    # 处理持仓中的股票\n",
    "    hold = []\n",
    "    for stk in account.valid_secpos:\n",
    "        # 在short_bucket中的，卖出\n",
    "        if stk in short_bucket:\n",
    "            order_to(stk, 0) \n",
    "        # 不在short_bucket中的，留着\n",
    "        else:\n",
    "            hold.append(stk)\n",
    "        \n",
    "    # 最终的买入股票列表为已经持有的和long_bucket中的并集   \n",
    "    buy_list = hold\n",
    "    for stk in long_bucket:\n",
    "        if stk not in hold:\n",
    "            buy_list.append(stk)\n",
    "            \n",
    "    if len(buy_list) > 0:\n",
    "        # 无论buy_list中有多少只股票，都将仓位分成stk_num份，每份买入一只股票\n",
    "        amount_per_stk = account.referencePortfolioValue/stk_num\n",
    "        # 为防止碰到涨停买不进来的情况，这里我们向buy_list中的前 int(stk_num*1.2) 只股票下买单\n",
    "        # 简单说，就是如果可能的话多下几单，总有成交的\n",
    "        for stk in buy_list[0:int(stk_num*1.2)]:\n",
    "            amount = int(amount_per_stk/account.referencePrice[stk] / 100.0) * 100\n",
    "            order_to(stk, amount)\n",
    "\"\"\""
   ]
  }
 ],
 "metadata": {
  "kernelspec": {
   "display_name": "Python 2",
   "language": "python",
   "name": "python2"
  },
  "language_info": {
   "codemirror_mode": {
    "name": "ipython",
    "version": 2
   },
   "file_extension": ".py",
   "mimetype": "text/x-python",
   "name": "python",
   "nbconvert_exporter": "python",
   "pygments_lexer": "ipython2",
   "version": "2.7.6"
  }
 },
 "nbformat": 4,
 "nbformat_minor": 0
}
