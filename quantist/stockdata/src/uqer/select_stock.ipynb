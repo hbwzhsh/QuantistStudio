{
 "cells": [
  {
   "cell_type": "code",
   "execution_count": 1,
   "metadata": {
    "collapsed": true
   },
   "outputs": [],
   "source": [
    "# Selet stock"
   ]
  },
  {
   "cell_type": "code",
   "execution_count": null,
   "metadata": {},
   "outputs": [],
   "source": [
    "# Basic select\n",
    "\n",
    "\"\"\"\n",
    "# account.universe表示当天，股票池中可以进行交易的证券池，剔除停牌退市等股票。\n",
    "    # account.referencePrice表示股票的参考价，一般使用的是上一日收盘价。\n",
    "\"\"\""
   ]
  },
  {
   "cell_type": "code",
   "execution_count": 2,
   "metadata": {},
   "outputs": [
    {
     "data": {
      "text/plain": [
       "\"\\n    # 去除ST股\\n    try:\\n        STlist = DataAPI.SecSTGet(secID=account.universe, beginDate=yesterday, endDate=yesterday, field=['secID']).tolist()\\n        valid_universe = [s for s in valid_universe if s not in STlist]\\n    except:\\n        pass\\n    # 去除流动性差的股票\\n    tv = account.get_attribute_history('turnoverValue', 20)\\n    mtv = {sec: sum(tvs)/20. for sec,tvs in tv.items()}\\n    valid_universe = [s for s in valid_universe if mtv.get(s, 0) >= 10**7]\\n    # 去除新上市或复牌的股票\\n    opn = account.get_attribute_history('openPrice', 1)\\n    valid_universe = [s for s in valid_universe if not (np.isnan(opn.get(s, 0)[0]) or opn.get(s, 0)[0] == 0)]\\n\""
      ]
     },
     "execution_count": 2,
     "metadata": {},
     "output_type": "execute_result"
    }
   ],
   "source": [
    "\"\"\"\n",
    "    # 去除ST股\n",
    "    try:\n",
    "        STlist = DataAPI.SecSTGet(secID=account.universe, beginDate=yesterday, endDate=yesterday, field=['secID']).tolist()\n",
    "        valid_universe = [s for s in valid_universe if s not in STlist]\n",
    "    except:\n",
    "        pass\n",
    "    # 去除流动性差的股票\n",
    "    tv = account.get_attribute_history('turnoverValue', 20)\n",
    "    mtv = {sec: sum(tvs)/20. for sec,tvs in tv.items()}\n",
    "    valid_universe = [s for s in valid_universe if mtv.get(s, 0) >= 10**7]\n",
    "    # 去除新上市或复牌的股票\n",
    "    opn = account.get_attribute_history('openPrice', 1)\n",
    "    valid_universe = [s for s in valid_universe if not (np.isnan(opn.get(s, 0)[0]) or opn.get(s, 0)[0] == 0)]\n",
    "\"\"\""
   ]
  },
  {
   "cell_type": "code",
   "execution_count": null,
   "metadata": {},
   "outputs": [],
   "source": []
  },
  {
   "cell_type": "code",
   "execution_count": null,
   "metadata": {},
   "outputs": [],
   "source": []
  }
 ],
 "metadata": {
  "kernelspec": {
   "display_name": "Python 2",
   "language": "python",
   "name": "python2"
  },
  "language_info": {
   "codemirror_mode": {
    "name": "ipython",
    "version": 2
   },
   "file_extension": ".py",
   "mimetype": "text/x-python",
   "name": "python",
   "nbconvert_exporter": "python",
   "pygments_lexer": "ipython2",
   "version": "2.7.6"
  }
 },
 "nbformat": 4,
 "nbformat_minor": 0
}
