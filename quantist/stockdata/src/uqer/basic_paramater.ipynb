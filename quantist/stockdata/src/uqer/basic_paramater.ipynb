{
 "cells": [
  {
   "cell_type": "code",
   "execution_count": 2,
   "metadata": {
    "collapsed": true
   },
   "outputs": [],
   "source": [
    "# Basic paramater\n",
    "\n",
    "start = '2000-01-01'\n",
    "end = '2010-01-01'\n",
    "basic_stock = 'sh'\n",
    "stock = '600001'\n",
    "sell_list = []\n",
    "buy_list = []\n",
    "19\n",
    "commission = Commission(buycost=0.0008, sellcost=0.0008)\n"
   ]
  },
  {
   "cell_type": "code",
   "execution_count": null,
   "metadata": {},
   "outputs": [],
   "source": [
    "start = '2016-11-1'     #回测开始时间\n",
    "end = '2016-12-25'      #回测结束时间\n",
    "secID = '000001.XSHE'   #平安银行\n",
    "\n",
    "benchmark = secID       # 策略对标标的\n",
    "universe = [secID]      # 证券池，支持股票和基金\n",
    "capital_base = 100000   # 起始资金\n",
    "freq = 'd'              # 策略类型，'d'表示日间策略使用日线回测，'m'表示日内策略使用分钟线回测\n",
    "refresh_rate = 1        # 调仓频率，表示执行handle_data的时间间隔，若freq = 'd'时间间隔的单位为交易日，若freq = 'm'时间间隔为分钟\n",
    "period1 = 5\n",
    "period2 = 60\n",
    "commission = Commission(buycost=0.0003, sellcost=0.0013, unit='perValue')\n",
    "max_history_window = 100     #设定调取历史价格区间最大为100个交易日"
   ]
  }
 ],
 "metadata": {
  "kernelspec": {
   "display_name": "Python 2",
   "language": "python",
   "name": "python2"
  },
  "language_info": {
   "codemirror_mode": {
    "name": "ipython",
    "version": 2
   },
   "file_extension": ".py",
   "mimetype": "text/x-python",
   "name": "python",
   "nbconvert_exporter": "python",
   "pygments_lexer": "ipython2",
   "version": "2.7.6"
  }
 },
 "nbformat": 4,
 "nbformat_minor": 0
}
