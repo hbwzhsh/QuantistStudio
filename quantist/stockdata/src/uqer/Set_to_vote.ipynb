{
 "cells": [
  {
   "cell_type": "code",
   "execution_count": null,
   "metadata": {
    "collapsed": true
   },
   "outputs": [],
   "source": [
    "#Set to vote\n",
    "\n",
    "\"\"\"\n",
    "account.has_buy = {}\n",
    "    #每月定投金额\n",
    "    account.step_value = 10000.0\n",
    "    #每月价值增长比率\n",
    "    account.step_ratio = 0.01\n",
    "    #最大补仓金额\n",
    "    account.max_value = 30000.0\n",
    "    #最大卖出金额\n",
    "    account.min_value = -30000.0\n",
    "\"\"\""
   ]
  }
 ],
 "metadata": {
  "kernelspec": {
   "display_name": "Python 2",
   "language": "python",
   "name": "python2"
  },
  "language_info": {
   "codemirror_mode": {
    "name": "ipython",
    "version": 2
   },
   "file_extension": ".py",
   "mimetype": "text/x-python",
   "name": "python",
   "nbconvert_exporter": "python",
   "pygments_lexer": "ipython2",
   "version": "2.7.6"
  }
 },
 "nbformat": 4,
 "nbformat_minor": 0
}
