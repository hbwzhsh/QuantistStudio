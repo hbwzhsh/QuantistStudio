{
 "cells": [
  {
   "cell_type": "code",
   "execution_count": 1,
   "metadata": {
    "collapsed": true
   },
   "outputs": [],
   "source": [
    "# _*_ coding:utf-8 _*_\n",
    "import tushare as ts\n",
    "import pandas as pd\n",
    "import matplotlib.pylab as plt\n",
    "import seaborn as sns\n",
    "import numpy as np\n",
    "%matplotlib inline"
   ]
  },
  {
   "cell_type": "code",
   "execution_count": 3,
   "metadata": {},
   "outputs": [
    {
     "name": "stdout",
     "output_type": "stream",
     "text": [
      "[Getting data:]"
     ]
    },
    {
     "name": "stdout",
     "output_type": "stream",
     "text": [
      "#"
     ]
    },
    {
     "name": "stdout",
     "output_type": "stream",
     "text": [
      "#"
     ]
    },
    {
     "name": "stdout",
     "output_type": "stream",
     "text": [
      "#"
     ]
    },
    {
     "name": "stdout",
     "output_type": "stream",
     "text": [
      "#"
     ]
    },
    {
     "name": "stdout",
     "output_type": "stream",
     "text": [
      "#"
     ]
    },
    {
     "name": "stdout",
     "output_type": "stream",
     "text": [
      "#"
     ]
    },
    {
     "name": "stdout",
     "output_type": "stream",
     "text": [
      "#"
     ]
    },
    {
     "name": "stdout",
     "output_type": "stream",
     "text": [
      "#"
     ]
    },
    {
     "name": "stdout",
     "output_type": "stream",
     "text": [
      "#"
     ]
    },
    {
     "name": "stdout",
     "output_type": "stream",
     "text": [
      "#"
     ]
    },
    {
     "name": "stdout",
     "output_type": "stream",
     "text": [
      "#"
     ]
    },
    {
     "name": "stdout",
     "output_type": "stream",
     "text": [
      "#"
     ]
    },
    {
     "name": "stdout",
     "output_type": "stream",
     "text": [
      "#"
     ]
    },
    {
     "name": "stdout",
     "output_type": "stream",
     "text": [
      "#"
     ]
    },
    {
     "name": "stdout",
     "output_type": "stream",
     "text": [
      "#"
     ]
    },
    {
     "name": "stdout",
     "output_type": "stream",
     "text": [
      "#"
     ]
    },
    {
     "name": "stdout",
     "output_type": "stream",
     "text": [
      "#"
     ]
    },
    {
     "name": "stdout",
     "output_type": "stream",
     "text": [
      "#"
     ]
    },
    {
     "name": "stdout",
     "output_type": "stream",
     "text": [
      "#"
     ]
    },
    {
     "name": "stdout",
     "output_type": "stream",
     "text": [
      "#"
     ]
    },
    {
     "name": "stdout",
     "output_type": "stream",
     "text": [
      "#"
     ]
    },
    {
     "name": "stdout",
     "output_type": "stream",
     "text": [
      "#"
     ]
    },
    {
     "name": "stdout",
     "output_type": "stream",
     "text": [
      "#"
     ]
    },
    {
     "name": "stdout",
     "output_type": "stream",
     "text": [
      "#"
     ]
    },
    {
     "name": "stdout",
     "output_type": "stream",
     "text": [
      "#"
     ]
    },
    {
     "name": "stdout",
     "output_type": "stream",
     "text": [
      "#"
     ]
    },
    {
     "name": "stdout",
     "output_type": "stream",
     "text": [
      "#"
     ]
    },
    {
     "name": "stdout",
     "output_type": "stream",
     "text": [
      "#"
     ]
    },
    {
     "name": "stdout",
     "output_type": "stream",
     "text": [
      "#"
     ]
    },
    {
     "name": "stdout",
     "output_type": "stream",
     "text": [
      "#"
     ]
    },
    {
     "name": "stdout",
     "output_type": "stream",
     "text": [
      "#"
     ]
    },
    {
     "name": "stdout",
     "output_type": "stream",
     "text": [
      "#"
     ]
    },
    {
     "name": "stdout",
     "output_type": "stream",
     "text": [
      "#"
     ]
    },
    {
     "name": "stdout",
     "output_type": "stream",
     "text": [
      "#"
     ]
    },
    {
     "name": "stdout",
     "output_type": "stream",
     "text": [
      "#"
     ]
    },
    {
     "name": "stdout",
     "output_type": "stream",
     "text": [
      "#"
     ]
    },
    {
     "name": "stdout",
     "output_type": "stream",
     "text": [
      "#"
     ]
    }
   ],
   "source": [
    "today_all = ts.get_today_all()"
   ]
  },
  {
   "cell_type": "code",
   "execution_count": 7,
   "metadata": {},
   "outputs": [
    {
     "name": "stdout",
     "output_type": "stream",
     "text": [
      "<class 'pandas.core.frame.DataFrame'>\n"
     ]
    }
   ],
   "source": [
    "print(type(today_all))"
   ]
  },
  {
   "cell_type": "code",
   "execution_count": 10,
   "metadata": {},
   "outputs": [
    {
     "name": "stdout",
     "output_type": "stream",
     "text": [
      "     code  name  changepercent  trade   open   high    low  settlement  \\\n0  600903  贵州燃气         10.063   3.50   3.50   3.50   3.50        3.18   \n1  000813  德展健康         10.061   9.08   8.40   9.08   8.40        8.25   \n2  600807  天业股份         10.038  14.47  13.62  14.47  13.62       13.15   \n\n      volume  turnoverratio  \n0      15984        0.01311  \n1   31847258        3.28977  \n2  115995582       14.73861  \n"
     ]
    }
   ],
   "source": [
    "print(today_all.head(3))"
   ]
  },
  {
   "cell_type": "code",
   "execution_count": 20,
   "metadata": {},
   "outputs": [
    {
     "name": "stdout",
     "output_type": "stream",
     "text": [
      "               open     high    close      low      volume  price_change  \\\ndate                                                                       \n2017-11-08  7920.81  7994.01  7902.17  7893.48  25176126.0        -23.69   \n2017-11-07  7857.25  7925.86  7925.86  7856.15  22486236.0         76.95   \n2017-11-06  7760.54  7849.45  7848.91  7744.90  20157338.0         92.33   \n\n            p_change       ma5      ma10      ma20       v_ma5      v_ma10  \\\ndate                                                                         \n2017-11-08     -0.30  7845.580  7829.116  7797.104  21865586.0  21258318.8   \n2017-11-07      0.98  7827.552  7824.278  7788.430  20822428.8  20373436.4   \n2017-11-06      1.19  7807.798  7813.230  7776.882  20014349.6  19971636.6   \n\n                v_ma20  \ndate                    \n2017-11-08  20354701.3  \n2017-11-07  20502221.3  \n2017-11-06  20620334.5  \n"
     ]
    }
   ],
   "source": [
    "cyb = ts.get_hist_data('zxb')\n",
    "print(cyb.head(3))"
   ]
  },
  {
   "cell_type": "code",
   "execution_count": 19,
   "metadata": {},
   "outputs": [
    {
     "ename": "KeyError",
     "evalue": "'code'",
     "traceback": [
      "\u001b[0;31m---------------------------------------------------------------------------\u001b[0m",
      "\u001b[0;31mKeyError\u001b[0m                                  Traceback (most recent call last)",
      "\u001b[0;32m~/py3venv/lib/python3.5/site-packages/pandas/indexes/base.py\u001b[0m in \u001b[0;36mget_loc\u001b[0;34m(self, key, method, tolerance)\u001b[0m\n\u001b[1;32m   1944\u001b[0m             \u001b[0;32mtry\u001b[0m\u001b[0;34m:\u001b[0m\u001b[0;34m\u001b[0m\u001b[0m\n\u001b[0;32m-> 1945\u001b[0;31m                 \u001b[0;32mreturn\u001b[0m \u001b[0mself\u001b[0m\u001b[0;34m.\u001b[0m\u001b[0m_engine\u001b[0m\u001b[0;34m.\u001b[0m\u001b[0mget_loc\u001b[0m\u001b[0;34m(\u001b[0m\u001b[0mkey\u001b[0m\u001b[0;34m)\u001b[0m\u001b[0;34m\u001b[0m\u001b[0m\n\u001b[0m\u001b[1;32m   1946\u001b[0m             \u001b[0;32mexcept\u001b[0m \u001b[0mKeyError\u001b[0m\u001b[0;34m:\u001b[0m\u001b[0;34m\u001b[0m\u001b[0m\n",
      "\u001b[0;32mpandas/index.pyx\u001b[0m in \u001b[0;36mpandas.index.IndexEngine.get_loc (pandas/index.c:4154)\u001b[0;34m()\u001b[0m\n",
      "\u001b[0;32mpandas/index.pyx\u001b[0m in \u001b[0;36mpandas.index.IndexEngine.get_loc (pandas/index.c:4018)\u001b[0;34m()\u001b[0m\n",
      "\u001b[0;32mpandas/hashtable.pyx\u001b[0m in \u001b[0;36mpandas.hashtable.PyObjectHashTable.get_item (pandas/hashtable.c:12368)\u001b[0;34m()\u001b[0m\n",
      "\u001b[0;32mpandas/hashtable.pyx\u001b[0m in \u001b[0;36mpandas.hashtable.PyObjectHashTable.get_item (pandas/hashtable.c:12322)\u001b[0;34m()\u001b[0m\n",
      "\u001b[0;31mKeyError\u001b[0m: 'code'",
      "\nDuring handling of the above exception, another exception occurred:\n",
      "\u001b[0;31mKeyError\u001b[0m                                  Traceback (most recent call last)",
      "\u001b[0;32m<ipython-input-19-f7deff464a52>\u001b[0m in \u001b[0;36m<module>\u001b[0;34m()\u001b[0m\n\u001b[1;32m      1\u001b[0m \u001b[0;31m# get_1st_good_stock\u001b[0m\u001b[0;34m\u001b[0m\u001b[0;34m\u001b[0m\u001b[0m\n\u001b[1;32m      2\u001b[0m \u001b[0mstocks\u001b[0m \u001b[0;34m=\u001b[0m \u001b[0mset\u001b[0m\u001b[0;34m(\u001b[0m\u001b[0;34m[\u001b[0m \u001b[0ms\u001b[0m \u001b[0;32mfor\u001b[0m \u001b[0ms\u001b[0m \u001b[0;32min\u001b[0m \u001b[0mtoday_all\u001b[0m\u001b[0;34m[\u001b[0m\u001b[0;34m'code'\u001b[0m\u001b[0;34m]\u001b[0m\u001b[0;34m]\u001b[0m\u001b[0;34m)\u001b[0m\u001b[0;34m\u001b[0m\u001b[0m\n\u001b[0;32m----> 3\u001b[0;31m \u001b[0mbad1\u001b[0m \u001b[0;34m=\u001b[0m \u001b[0mset\u001b[0m\u001b[0;34m(\u001b[0m\u001b[0;34m[\u001b[0m \u001b[0mb\u001b[0m \u001b[0;32mfor\u001b[0m \u001b[0mb\u001b[0m \u001b[0;32min\u001b[0m \u001b[0mcyb\u001b[0m\u001b[0;34m[\u001b[0m\u001b[0;34m'code'\u001b[0m\u001b[0;34m]\u001b[0m\u001b[0;34m]\u001b[0m\u001b[0;34m)\u001b[0m\u001b[0;34m\u001b[0m\u001b[0m\n\u001b[0m\u001b[1;32m      4\u001b[0m \u001b[0mgood1\u001b[0m \u001b[0;34m=\u001b[0m \u001b[0mstocks\u001b[0m \u001b[0;34m-\u001b[0m \u001b[0mbad1\u001b[0m\u001b[0;34m\u001b[0m\u001b[0m\n\u001b[1;32m      5\u001b[0m \u001b[0mprint\u001b[0m\u001b[0;34m(\u001b[0m\u001b[0mlen\u001b[0m\u001b[0;34m(\u001b[0m\u001b[0mgood1\u001b[0m\u001b[0;34m)\u001b[0m\u001b[0;34m)\u001b[0m\u001b[0;34m\u001b[0m\u001b[0m\n",
      "\u001b[0;32m~/py3venv/lib/python3.5/site-packages/pandas/core/frame.py\u001b[0m in \u001b[0;36m__getitem__\u001b[0;34m(self, key)\u001b[0m\n\u001b[1;32m   1995\u001b[0m             \u001b[0;32mreturn\u001b[0m \u001b[0mself\u001b[0m\u001b[0;34m.\u001b[0m\u001b[0m_getitem_multilevel\u001b[0m\u001b[0;34m(\u001b[0m\u001b[0mkey\u001b[0m\u001b[0;34m)\u001b[0m\u001b[0;34m\u001b[0m\u001b[0m\n\u001b[1;32m   1996\u001b[0m         \u001b[0;32melse\u001b[0m\u001b[0;34m:\u001b[0m\u001b[0;34m\u001b[0m\u001b[0m\n\u001b[0;32m-> 1997\u001b[0;31m             \u001b[0;32mreturn\u001b[0m \u001b[0mself\u001b[0m\u001b[0;34m.\u001b[0m\u001b[0m_getitem_column\u001b[0m\u001b[0;34m(\u001b[0m\u001b[0mkey\u001b[0m\u001b[0;34m)\u001b[0m\u001b[0;34m\u001b[0m\u001b[0m\n\u001b[0m\u001b[1;32m   1998\u001b[0m \u001b[0;34m\u001b[0m\u001b[0m\n\u001b[1;32m   1999\u001b[0m     \u001b[0;32mdef\u001b[0m \u001b[0m_getitem_column\u001b[0m\u001b[0;34m(\u001b[0m\u001b[0mself\u001b[0m\u001b[0;34m,\u001b[0m \u001b[0mkey\u001b[0m\u001b[0;34m)\u001b[0m\u001b[0;34m:\u001b[0m\u001b[0;34m\u001b[0m\u001b[0m\n",
      "\u001b[0;32m~/py3venv/lib/python3.5/site-packages/pandas/core/frame.py\u001b[0m in \u001b[0;36m_getitem_column\u001b[0;34m(self, key)\u001b[0m\n\u001b[1;32m   2002\u001b[0m         \u001b[0;31m# get column\u001b[0m\u001b[0;34m\u001b[0m\u001b[0;34m\u001b[0m\u001b[0m\n\u001b[1;32m   2003\u001b[0m         \u001b[0;32mif\u001b[0m \u001b[0mself\u001b[0m\u001b[0;34m.\u001b[0m\u001b[0mcolumns\u001b[0m\u001b[0;34m.\u001b[0m\u001b[0mis_unique\u001b[0m\u001b[0;34m:\u001b[0m\u001b[0;34m\u001b[0m\u001b[0m\n\u001b[0;32m-> 2004\u001b[0;31m             \u001b[0;32mreturn\u001b[0m \u001b[0mself\u001b[0m\u001b[0;34m.\u001b[0m\u001b[0m_get_item_cache\u001b[0m\u001b[0;34m(\u001b[0m\u001b[0mkey\u001b[0m\u001b[0;34m)\u001b[0m\u001b[0;34m\u001b[0m\u001b[0m\n\u001b[0m\u001b[1;32m   2005\u001b[0m \u001b[0;34m\u001b[0m\u001b[0m\n\u001b[1;32m   2006\u001b[0m         \u001b[0;31m# duplicate columns & possible reduce dimensionality\u001b[0m\u001b[0;34m\u001b[0m\u001b[0;34m\u001b[0m\u001b[0m\n",
      "\u001b[0;32m~/py3venv/lib/python3.5/site-packages/pandas/core/generic.py\u001b[0m in \u001b[0;36m_get_item_cache\u001b[0;34m(self, item)\u001b[0m\n\u001b[1;32m   1348\u001b[0m         \u001b[0mres\u001b[0m \u001b[0;34m=\u001b[0m \u001b[0mcache\u001b[0m\u001b[0;34m.\u001b[0m\u001b[0mget\u001b[0m\u001b[0;34m(\u001b[0m\u001b[0mitem\u001b[0m\u001b[0;34m)\u001b[0m\u001b[0;34m\u001b[0m\u001b[0m\n\u001b[1;32m   1349\u001b[0m         \u001b[0;32mif\u001b[0m \u001b[0mres\u001b[0m \u001b[0;32mis\u001b[0m \u001b[0;32mNone\u001b[0m\u001b[0;34m:\u001b[0m\u001b[0;34m\u001b[0m\u001b[0m\n\u001b[0;32m-> 1350\u001b[0;31m             \u001b[0mvalues\u001b[0m \u001b[0;34m=\u001b[0m \u001b[0mself\u001b[0m\u001b[0;34m.\u001b[0m\u001b[0m_data\u001b[0m\u001b[0;34m.\u001b[0m\u001b[0mget\u001b[0m\u001b[0;34m(\u001b[0m\u001b[0mitem\u001b[0m\u001b[0;34m)\u001b[0m\u001b[0;34m\u001b[0m\u001b[0m\n\u001b[0m\u001b[1;32m   1351\u001b[0m             \u001b[0mres\u001b[0m \u001b[0;34m=\u001b[0m \u001b[0mself\u001b[0m\u001b[0;34m.\u001b[0m\u001b[0m_box_item_values\u001b[0m\u001b[0;34m(\u001b[0m\u001b[0mitem\u001b[0m\u001b[0;34m,\u001b[0m \u001b[0mvalues\u001b[0m\u001b[0;34m)\u001b[0m\u001b[0;34m\u001b[0m\u001b[0m\n\u001b[1;32m   1352\u001b[0m             \u001b[0mcache\u001b[0m\u001b[0;34m[\u001b[0m\u001b[0mitem\u001b[0m\u001b[0;34m]\u001b[0m \u001b[0;34m=\u001b[0m \u001b[0mres\u001b[0m\u001b[0;34m\u001b[0m\u001b[0m\n",
      "\u001b[0;32m~/py3venv/lib/python3.5/site-packages/pandas/core/internals.py\u001b[0m in \u001b[0;36mget\u001b[0;34m(self, item, fastpath)\u001b[0m\n\u001b[1;32m   3288\u001b[0m \u001b[0;34m\u001b[0m\u001b[0m\n\u001b[1;32m   3289\u001b[0m             \u001b[0;32mif\u001b[0m \u001b[0;32mnot\u001b[0m \u001b[0misnull\u001b[0m\u001b[0;34m(\u001b[0m\u001b[0mitem\u001b[0m\u001b[0;34m)\u001b[0m\u001b[0;34m:\u001b[0m\u001b[0;34m\u001b[0m\u001b[0m\n\u001b[0;32m-> 3290\u001b[0;31m                 \u001b[0mloc\u001b[0m \u001b[0;34m=\u001b[0m \u001b[0mself\u001b[0m\u001b[0;34m.\u001b[0m\u001b[0mitems\u001b[0m\u001b[0;34m.\u001b[0m\u001b[0mget_loc\u001b[0m\u001b[0;34m(\u001b[0m\u001b[0mitem\u001b[0m\u001b[0;34m)\u001b[0m\u001b[0;34m\u001b[0m\u001b[0m\n\u001b[0m\u001b[1;32m   3291\u001b[0m             \u001b[0;32melse\u001b[0m\u001b[0;34m:\u001b[0m\u001b[0;34m\u001b[0m\u001b[0m\n\u001b[1;32m   3292\u001b[0m                 \u001b[0mindexer\u001b[0m \u001b[0;34m=\u001b[0m \u001b[0mnp\u001b[0m\u001b[0;34m.\u001b[0m\u001b[0marange\u001b[0m\u001b[0;34m(\u001b[0m\u001b[0mlen\u001b[0m\u001b[0;34m(\u001b[0m\u001b[0mself\u001b[0m\u001b[0;34m.\u001b[0m\u001b[0mitems\u001b[0m\u001b[0;34m)\u001b[0m\u001b[0;34m)\u001b[0m\u001b[0;34m[\u001b[0m\u001b[0misnull\u001b[0m\u001b[0;34m(\u001b[0m\u001b[0mself\u001b[0m\u001b[0;34m.\u001b[0m\u001b[0mitems\u001b[0m\u001b[0;34m)\u001b[0m\u001b[0;34m]\u001b[0m\u001b[0;34m\u001b[0m\u001b[0m\n",
      "\u001b[0;32m~/py3venv/lib/python3.5/site-packages/pandas/indexes/base.py\u001b[0m in \u001b[0;36mget_loc\u001b[0;34m(self, key, method, tolerance)\u001b[0m\n\u001b[1;32m   1945\u001b[0m                 \u001b[0;32mreturn\u001b[0m \u001b[0mself\u001b[0m\u001b[0;34m.\u001b[0m\u001b[0m_engine\u001b[0m\u001b[0;34m.\u001b[0m\u001b[0mget_loc\u001b[0m\u001b[0;34m(\u001b[0m\u001b[0mkey\u001b[0m\u001b[0;34m)\u001b[0m\u001b[0;34m\u001b[0m\u001b[0m\n\u001b[1;32m   1946\u001b[0m             \u001b[0;32mexcept\u001b[0m \u001b[0mKeyError\u001b[0m\u001b[0;34m:\u001b[0m\u001b[0;34m\u001b[0m\u001b[0m\n\u001b[0;32m-> 1947\u001b[0;31m                 \u001b[0;32mreturn\u001b[0m \u001b[0mself\u001b[0m\u001b[0;34m.\u001b[0m\u001b[0m_engine\u001b[0m\u001b[0;34m.\u001b[0m\u001b[0mget_loc\u001b[0m\u001b[0;34m(\u001b[0m\u001b[0mself\u001b[0m\u001b[0;34m.\u001b[0m\u001b[0m_maybe_cast_indexer\u001b[0m\u001b[0;34m(\u001b[0m\u001b[0mkey\u001b[0m\u001b[0;34m)\u001b[0m\u001b[0;34m)\u001b[0m\u001b[0;34m\u001b[0m\u001b[0m\n\u001b[0m\u001b[1;32m   1948\u001b[0m \u001b[0;34m\u001b[0m\u001b[0m\n\u001b[1;32m   1949\u001b[0m         \u001b[0mindexer\u001b[0m \u001b[0;34m=\u001b[0m \u001b[0mself\u001b[0m\u001b[0;34m.\u001b[0m\u001b[0mget_indexer\u001b[0m\u001b[0;34m(\u001b[0m\u001b[0;34m[\u001b[0m\u001b[0mkey\u001b[0m\u001b[0;34m]\u001b[0m\u001b[0;34m,\u001b[0m \u001b[0mmethod\u001b[0m\u001b[0;34m=\u001b[0m\u001b[0mmethod\u001b[0m\u001b[0;34m,\u001b[0m \u001b[0mtolerance\u001b[0m\u001b[0;34m=\u001b[0m\u001b[0mtolerance\u001b[0m\u001b[0;34m)\u001b[0m\u001b[0;34m\u001b[0m\u001b[0m\n",
      "\u001b[0;32mpandas/index.pyx\u001b[0m in \u001b[0;36mpandas.index.IndexEngine.get_loc (pandas/index.c:4154)\u001b[0;34m()\u001b[0m\n",
      "\u001b[0;32mpandas/index.pyx\u001b[0m in \u001b[0;36mpandas.index.IndexEngine.get_loc (pandas/index.c:4018)\u001b[0;34m()\u001b[0m\n",
      "\u001b[0;32mpandas/hashtable.pyx\u001b[0m in \u001b[0;36mpandas.hashtable.PyObjectHashTable.get_item (pandas/hashtable.c:12368)\u001b[0;34m()\u001b[0m\n",
      "\u001b[0;32mpandas/hashtable.pyx\u001b[0m in \u001b[0;36mpandas.hashtable.PyObjectHashTable.get_item (pandas/hashtable.c:12322)\u001b[0;34m()\u001b[0m\n",
      "\u001b[0;31mKeyError\u001b[0m: 'code'"
     ],
     "output_type": "error"
    }
   ],
   "source": [
    "# get_1st_good_stock\n",
    "stocks = set([ s for s in today_all['code']])\n",
    "bad1 = set([ b for b in cyb['code']])\n",
    "good1 = stocks - bad1\n",
    "print(len(good1))"
   ]
  },
  {
   "cell_type": "code",
   "execution_count": 23,
   "metadata": {},
   "outputs": [
    {
     "name": "stdout",
     "output_type": "stream",
     "text": [
      "[Getting data:]"
     ]
    },
    {
     "name": "stdout",
     "output_type": "stream",
     "text": [
      "#"
     ]
    },
    {
     "name": "stdout",
     "output_type": "stream",
     "text": [
      "#"
     ]
    },
    {
     "name": "stdout",
     "output_type": "stream",
     "text": [
      "#"
     ]
    },
    {
     "name": "stdout",
     "output_type": "stream",
     "text": [
      "#"
     ]
    },
    {
     "name": "stdout",
     "output_type": "stream",
     "text": [
      "       code   name  count    bamount    samount       net  bcount  scount\n0    000839   中信国安      2  126826.04   71074.54  55751.51      10      10\n1    603533   掌阅科技      5  102707.53   84828.64  17878.89      23      21\n2    600478    科力远      1   15165.04       0.00  15165.04       5       0\n3    300088   长信科技      1   27682.26   14911.54  12770.71       5       5\n4    000710   贝瑞基因      1   15228.30    5457.35   9770.95       5       5\n5    002583    海能达      1   23400.25   13739.18   9661.07       5       2\n6    002886   沃特股份      3   31948.39   22914.77   9033.62      15      15\n7    002846   英联股份      4   34628.74   25787.69   8841.06      19      18\n8    002902   铭普光磁      1   10830.55    2017.03   8813.52       5       5\n9    603501   韦尔股份      2   31236.56   23451.65   7784.91       8       6\n10   000813   德展健康      2   12786.99    5414.34   7372.65       5       9\n11   300474    景嘉微      1   12210.78    4939.50   7271.28       5       5\n12   300707   威唐工业      3   22163.38   15253.33   6910.05      14      15\n13   300688   创业黑马      1    8978.24    2195.76   6782.48       5       5\n14   000045   深纺织A      1    8959.88    2601.59   6358.29       5       5\n15   002079   苏州固锝      1    9192.18    2856.96   6335.22       5       5\n16   600581   八一钢铁      1   13670.00    7504.97   6165.03       4       5\n17   000100  TCL集团      1   18439.72   12397.83   6041.88       5       5\n18   300710   万隆光电      5   15351.67    9810.08   5541.59      21      24\n19   600129   太极集团      1    8332.85    3119.16   5213.69       5       5\n20   002781   奇信股份      1   10764.98    6025.43   4739.56       4       5\n21   002156   通富微电      1    9632.89    4934.99   4697.89       5       5\n22   300691   联合光电      1    8792.73    4271.64   4521.09       5       5\n23   002901   大博医疗      4   26488.27   22069.71   4418.56      18      18\n24   603683   晶华新材      4   11797.74    7556.67   4241.08      15      18\n25   300657   弘信电子      1    7477.23    3389.07   4088.16       5       5\n26   601118   海南橡胶      1    4064.11       0.00   4064.11       5       0\n27   002430   杭氧股份      1    9948.75    5979.14   3969.61       5       5\n28   002903   宇环数控      5   35618.18   31651.98   3966.21      22      22\n29   000889   茂业通信      2   50078.26   46128.90   3949.37       9       9\n..      ...    ...    ...        ...        ...       ...     ...     ...\n116  002848   高斯贝尔      2    6309.23    9546.55  -3237.32      10      10\n117  000525    红太阳      1    4393.41    7698.60  -3305.18       4       4\n118  002199   东晶电子      1    3811.74    7285.57  -3473.84       5       5\n119  603829   洛凯股份      2    9214.52   13397.55  -4183.03      10      10\n120  600822   上海物贸      1    4234.22    8861.01  -4626.79       5       5\n121  600821    津劝业      1    3022.42    7949.68  -4927.26       5       5\n122  000816   智慧农业      1     655.90    5594.32  -4938.41       5       5\n123  000982  *ST中绒      1    2808.95    8098.63  -5289.67       5       5\n124  002482   广田集团      1    2636.23    7958.32  -5322.09       5       5\n125  300700   岱勒新材      4   34052.72   39417.53  -5364.81      18      18\n126  603559   中通国脉      3   22277.28   27742.07  -5464.79      15      15\n127  000567   海德股份      1    2104.38    7569.75  -5465.37       5       5\n128  300134   大富科技      1    1707.26    7740.85  -6033.59       5       5\n129  002721   金一文化      1    2962.48    9105.20  -6142.72       5       5\n130  600609   金杯汽车      1    3624.55   11011.78  -7387.23       5       5\n131  002669   康达新材      2   12527.81   20241.87  -7714.05      10       8\n132  300017   网宿科技      1    6444.34   14358.32  -7913.98       5       5\n133  300699   光威复材      1   10310.55   18426.56  -8116.02       5       5\n134  002260   德奥通航      3   16615.64   26713.66 -10098.03      15      11\n135  600848   上海临港      1    6821.74   17042.86 -10221.12       5       5\n136  300167   迪威视讯      1    5520.79   16558.02 -11037.23       5       5\n137  000725   京东方A      1  137008.73  148321.95 -11313.22       5       5\n138  002877   智能自控      3   17793.99   29376.87 -11582.88      13      12\n139  000868   安凯客车      1    7795.49   20204.39 -12408.90       5       5\n140  002510    天汽模      2   11272.86   26274.54 -15001.68       9       9\n141  002856   美芝股份      4   23938.56   40422.30 -16483.74      18      17\n142  000671    阳光城      1    3124.05   21408.79 -18284.74       5       5\n143  000020   深华发A      4   13168.36   34589.01 -21420.65      16      15\n144  600807   天业股份      3   70439.76  109434.13 -38994.37      16      16\n145  600255   梦舟股份      2    8716.39   48586.38 -39869.99      10      10\n\n[146 rows x 8 columns]\n"
     ]
    }
   ],
   "source": [
    "cap_top = ts.cap_tops()\n",
    "print(cap_top)"
   ]
  },
  {
   "cell_type": "code",
   "execution_count": 24,
   "metadata": {},
   "outputs": [
    {
     "name": "stdout",
     "output_type": "stream",
     "text": [
      "[Getting data:]"
     ]
    },
    {
     "name": "stdout",
     "output_type": "stream",
     "text": [
      "#"
     ]
    },
    {
     "name": "stdout",
     "output_type": "stream",
     "text": [
      "#"
     ]
    },
    {
     "name": "stdout",
     "output_type": "stream",
     "text": [
      "#"
     ]
    },
    {
     "name": "stdout",
     "output_type": "stream",
     "text": [
      "#"
     ]
    },
    {
     "name": "stdout",
     "output_type": "stream",
     "text": [
      "#"
     ]
    },
    {
     "name": "stdout",
     "output_type": "stream",
     "text": [
      "#"
     ]
    },
    {
     "name": "stdout",
     "output_type": "stream",
     "text": [
      "#"
     ]
    },
    {
     "name": "stdout",
     "output_type": "stream",
     "text": [
      "#"
     ]
    },
    {
     "name": "stdout",
     "output_type": "stream",
     "text": [
      "#"
     ]
    },
    {
     "name": "stdout",
     "output_type": "stream",
     "text": [
      "#"
     ]
    },
    {
     "name": "stdout",
     "output_type": "stream",
     "text": [
      "#"
     ]
    },
    {
     "name": "stdout",
     "output_type": "stream",
     "text": [
      "#"
     ]
    },
    {
     "name": "stdout",
     "output_type": "stream",
     "text": [
      "#"
     ]
    },
    {
     "name": "stdout",
     "output_type": "stream",
     "text": [
      "#"
     ]
    },
    {
     "name": "stdout",
     "output_type": "stream",
     "text": [
      "#"
     ]
    },
    {
     "name": "stdout",
     "output_type": "stream",
     "text": [
      "#"
     ]
    },
    {
     "name": "stdout",
     "output_type": "stream",
     "text": [
      "#"
     ]
    },
    {
     "name": "stdout",
     "output_type": "stream",
     "text": [
      "#"
     ]
    },
    {
     "name": "stdout",
     "output_type": "stream",
     "text": [
      "#"
     ]
    },
    {
     "name": "stdout",
     "output_type": "stream",
     "text": [
      "#"
     ]
    },
    {
     "name": "stdout",
     "output_type": "stream",
     "text": [
      "#"
     ]
    },
    {
     "name": "stdout",
     "output_type": "stream",
     "text": [
      "#"
     ]
    },
    {
     "name": "stdout",
     "output_type": "stream",
     "text": [
      "#"
     ]
    },
    {
     "name": "stdout",
     "output_type": "stream",
     "text": [
      "#"
     ]
    },
    {
     "name": "stdout",
     "output_type": "stream",
     "text": [
      "#"
     ]
    },
    {
     "name": "stdout",
     "output_type": "stream",
     "text": [
      "#"
     ]
    },
    {
     "name": "stdout",
     "output_type": "stream",
     "text": [
      "#"
     ]
    },
    {
     "name": "stdout",
     "output_type": "stream",
     "text": [
      "#"
     ]
    },
    {
     "name": "stdout",
     "output_type": "stream",
     "text": [
      "#"
     ]
    },
    {
     "name": "stdout",
     "output_type": "stream",
     "text": [
      "#"
     ]
    },
    {
     "name": "stdout",
     "output_type": "stream",
     "text": [
      "                           broker  count   bamount  bcount   samount  scount  \\\n0         海通证券股份有限公司北京中关村南大街证券营业部      4   3781.53       3   1041.71       1   \n1         中信建投证券股份有限公司南京龙园西路证券营业部      3   1386.49       2    364.63       1   \n2          中信建投证券股份有限公司北京方庄路证券营业部      2   7855.32       1  11739.30       1   \n3                 民生证券股份有限公司河南分公司      2    627.89       1   3660.83       1   \n4          财富证券有限责任公司石家庄槐安东路证券营业部      1   4952.85       1      0.00       0   \n5            东方证券股份有限公司北京学院路证券营业部      1    985.93       1      0.00       0   \n6           光大证券股份有限公司海口国贸大道证券营业部     10   3433.03       9    316.72       1   \n7           渤海证券股份有限公司西安劳动南路证券营业部      3  16532.00       2   1956.33       1   \n8            华泰证券股份有限公司上海武定路证券营业部     16  12620.88       8  12014.74       8   \n9                           深股通专用      8  36071.85       5  24245.72       3   \n10          华泰证券股份有限公司福州六一中路证券营业部      3   1130.66       3      0.00       0   \n11      国泰君安证券股份有限公司乌鲁木齐新华北路证券营业部      1    459.60       1      0.00       0   \n12            广发证券股份有限公司揭阳揭西证券营业部      1    482.86       1      0.00       0   \n13         上海证券有限责任公司北京和平里北街证券营业部      1   2120.43       1      0.00       0   \n14          长江证券股份有限公司成都人民南路证券营业部      1    238.07       1      0.00       0   \n15         中信证券股份有限公司深圳前海自贸区证券营业部      4    405.00       1  28438.69       3   \n16         国泰君安证券股份有限公司深圳益田路证券营业部      3    469.59       1   9739.98       2   \n17           财富证券有限责任公司天津烟台道证券营业部      1   1964.61       1      0.00       0   \n18           东兴证券股份有限公司南京洪武路证券营业部      1    583.54       1      0.00       0   \n19                平安证券股份有限公司上海分公司      7   2402.47       7      0.00       0   \n20           民生证券股份有限公司太原长风街证券营业部      1    165.90       1      0.00       0   \n21           兴业证券股份有限公司深圳侨香路证券营业部      5   1376.38       2   2707.64       3   \n22    天风证券股份有限公司深圳深南大道国际创新中心证券营业部      1   1942.84       1      0.00       0   \n23      西藏东方财富证券股份有限公司温州车站大道证券营业部      2      0.00       0   2190.40       2   \n24          华泰证券股份有限公司深圳深南大道证券营业部      2    650.75       1   1397.21       1   \n25           华鑫证券有限责任公司上海茅台路证券营业部      4    383.24       3   5182.89       1   \n26           恒泰证券股份有限公司上海张杨路证券营业部      1      0.00       0   2399.30       1   \n27     财通证券股份有限公司绍兴柯桥区钱清钱门大道证券营业部      2      0.00       0   1330.11       2   \n28         广州证券股份有限公司常州高新科技园证券营业部      5   1716.03       1   3902.86       4   \n29        东方证券股份有限公司上海杨浦区四平路证券营业部      1      0.00       0   1197.05       1   \n...                           ...    ...       ...     ...       ...     ...   \n1143        天风证券股份有限公司深圳福中三路证券营业部      1    374.97       1      0.00       0   \n1144        国都证券股份有限公司北京阜外大街证券营业部      1      0.00       0    510.97       1   \n1145       广发证券股份有限公司扬州扬子江北路证券营业部      1      0.00       0    445.93       1   \n1146       中国银河证券股份有限公司重庆沙南街证券营业部      1    510.35       1      0.00       0   \n1147        长江证券股份有限公司北京万柳东路证券营业部      1      0.00       0    407.06       1   \n1148      网信证券有限责任公司北京上地农大南路证券营业部      1      0.00       0   1796.13       1   \n1149       中国银河证券股份有限公司温州大南路证券营业部      1      0.00       0    317.20       1   \n1150       中国中投证券有限责任公司深圳桃园路证券营业部      1      0.00       0    981.51       1   \n1151       光大证券股份有限公司象山县象山港路证券营业部      1      0.00       0    644.73       1   \n1152    中国银河证券股份有限公司北京朝阳门北大街证券营业部      1   1000.18       1      0.00       0   \n1153        华泰证券股份有限公司广州体育东路证券营业部      1      0.00       0    780.24       1   \n1154       中国民族证券有限责任公司延吉友谊路证券营业部      1      0.00       0    234.16       1   \n1155         国融证券股份有限公司成都东大街证券营业部      1   1542.07       1      0.00       0   \n1156        长江证券股份有限公司成都光华村街证券营业部      1      0.00       0   1900.17       1   \n1157         光大证券股份有限公司杭州庆春路证券营业部      1   1065.28       1      0.00       0   \n1158         国海证券股份有限公司北京和平街证券营业部      1   1426.13       1      0.00       0   \n1159        长江证券股份有限公司荆州北京西路证券营业部      1   1079.83       1      0.00       0   \n1160              兴业证券股份有限公司宁波分公司      1    823.51       1      0.00       0   \n1161      中国中投证券有限责任公司哈尔滨赣水路证券营业部      1    760.03       1      0.00       0   \n1162         湘财证券股份有限公司佛山祖庙路证券营业部      1      9.32       1      0.00       0   \n1163         宏信证券有限责任公司广州马场路证券营业部      1      4.64       1      0.00       0   \n1164          信达证券股份有限公司丹东宽甸证券营业部      1      1.93       1      0.00       0   \n1165        财达证券股份有限公司石家庄槐北路证券营业部      1      0.00       0      0.97       1   \n1166        长江证券股份有限公司武汉鹦鹉大道证券营业部      1      0.00       0      0.97       1   \n1167       广州证券股份有限公司北京三里河东路证券营业部      1      0.00       0      0.97       1   \n1168       广发证券股份有限公司佛山岭南大道北证券营业部      1      0.00       0      5.20       1   \n1169         万联证券股份有限公司沈阳恒达路证券营业部      1      0.00       0      0.97       1   \n1170         长江证券股份有限公司上海东明路证券营业部      1      0.00       0      4.67       1   \n1171        长江证券股份有限公司太原南内环街证券营业部      1      0.00       0      4.67       1   \n1172         大通证券股份有限公司徐州湖北路证券营业部      1      0.00       0      4.67       1   \n\n                 top3  \n0        多氟多,人人乐,岱勒新材  \n1            红太阳,万隆光电  \n2                茂业通信  \n3           中远海科,广田集团  \n4                 卫士通  \n5                 红太阳  \n6      阳光城,金杯汽车,京汉股份,  \n7                茂业通信  \n8     宇环数控,联合光电,中信国安,  \n9      京东方A,海能达,亿帆医药,  \n10           人人乐,京汉股份  \n11               茂业通信  \n12               中远海科  \n13                卫士通  \n14                人人乐  \n15          茂业通信,天业股份  \n16          中远海科,天业股份  \n17                卫士通  \n18                红太阳  \n19    大博医疗,英联股份,乐心医疗,  \n20               茂业通信  \n21    岱勒新材,中远海科,大博医疗,  \n22                卫士通  \n23                人人乐  \n24          上海物贸,中远海科  \n25     金力泰,集泰股份,凯伦股份,  \n26                红太阳  \n27                人人乐  \n28    贝瑞基因,英联股份,贝肯能源,  \n29                红太阳  \n...               ...  \n1143             科锐国际  \n1144             科锐国际  \n1145             科锐国际  \n1146             立昂技术  \n1147             科锐国际  \n1148             立昂技术  \n1149             科锐国际  \n1150             立昂技术  \n1151             立昂技术  \n1152             创业黑马  \n1153             创业黑马  \n1154             创业黑马  \n1155             光威复材  \n1156             光威复材  \n1157             岱勒新材  \n1158             威唐工业  \n1159             威唐工业  \n1160             精研科技  \n1161             精研科技  \n1162             广哈通信  \n1163             广哈通信  \n1164             广哈通信  \n1165             广哈通信  \n1166             广哈通信  \n1167             广哈通信  \n1168              英可瑞  \n1169             广哈通信  \n1170              英可瑞  \n1171              英可瑞  \n1172              英可瑞  \n\n[1173 rows x 7 columns]\n"
     ]
    }
   ],
   "source": [
    "broker_top = ts.broker_tops()\n",
    "print(broker_top)"
   ]
  },
  {
   "cell_type": "code",
   "execution_count": 25,
   "metadata": {},
   "outputs": [
    {
     "name": "stdout",
     "output_type": "stream",
     "text": [
      "[Getting data:]"
     ]
    },
    {
     "name": "stdout",
     "output_type": "stream",
     "text": [
      "#"
     ]
    },
    {
     "name": "stdout",
     "output_type": "stream",
     "text": [
      "#"
     ]
    },
    {
     "name": "stdout",
     "output_type": "stream",
     "text": [
      "      code   name   bamount  bcount   samount  scount       net\n0   002781   奇信股份   9980.01       2      0.00       0   9980.01\n1   002019   亿帆医药  11309.50       1   1702.60       1   9606.90\n2   300706    阿石创   7623.05       4      0.00       0   7623.05\n3   000813   德展健康   7917.48       6   1289.48       2   6628.00\n4   600581   八一钢铁   6490.24       2   1319.31       1   5170.93\n5   000100  TCL集团   4908.61       1   2213.69       1   2694.92\n6   002026   山东威达   2385.94       3    476.23       2   1909.70\n7   603501   韦尔股份   1634.94       1      0.00       0   1634.94\n8   002903   宇环数控   1632.29       1      0.00       0   1632.29\n9   300604   长川科技   1572.97       1      0.00       0   1572.97\n10  300457   赢合科技    989.71       1      0.00       0    989.71\n11  002886   沃特股份    977.60       1      0.00       0    977.60\n12  300225    金力泰   1871.85       2    974.75       1    897.10\n13  002908   德生科技    900.29       3     32.78       6    867.51\n14  300715   凯伦股份    354.29       2      0.00       0    354.29\n15  002409   雅克科技    447.81       1    124.10       2    323.71\n16  300662   科锐国际    594.01       1    275.08       1    318.93\n17  300708   聚灿光电    291.19       3     30.30       7    260.89\n18  300720   海川智能      9.06       1      0.00       0      9.06\n19  300712   永福股份     22.60       2     14.19       5      8.41\n20  300711   广哈通信      8.36       1      1.96       1      6.40\n21  002910   庄园牧场      6.11       1      5.36       2      0.76\n22  603912    佳力图      0.00       0      2.46       1     -2.46\n23  603289   泰瑞机器      0.00       0      2.90       1     -2.90\n24  002909   集泰股份      0.00       0      5.47       2     -5.47\n25  603659    璞泰来      0.00       0      5.79       1     -5.79\n26  002907   华森制药      0.00       0      6.21       2     -6.21\n27  300713    英可瑞      0.00       0      9.00       3     -9.00\n28  603260   合盛硅业      0.00       0     33.72       3    -33.72\n29  002621   三垒股份      0.00       0    252.59       1   -252.59\n30  300017   网宿科技    882.74       1   1321.97       1   -439.23\n31  600821    津劝业      0.00       0    448.65       1   -448.65\n32  002156   通富微电      0.00       0    563.24       1   -563.24\n33  002516   旷达科技      0.00       0    885.00       1   -885.00\n34  002828   贝肯能源      0.00       0   1119.18       1  -1119.18\n35  002006   精功科技      0.00       0   1143.60       1  -1143.60\n36  000567   海德股份      0.00       0   1218.47       1  -1218.47\n37  000671    阳光城      0.00       0   1219.86       1  -1219.86\n38  300666   江丰电子   1379.37       1   2744.90       1  -1365.53\n39  603533   掌阅科技      0.00       0   1639.80       1  -1639.80\n40  000525    红太阳   1615.51       2   3366.81       2  -1751.30\n41  300613    富瀚微      0.00       0   1949.33       2  -1949.33\n42  600848   上海临港      0.00       0   2197.77       1  -2197.77\n43  300360   炬华科技      0.00       0   2799.00       1  -2799.00\n44  600609   金杯汽车      0.00       0   3026.15       1  -3026.15\n45  300134   大富科技      0.00       0   3859.89       1  -3859.89\n46  300145   中金环境   6203.15       4  10630.00       4  -4426.85\n47  000816   智慧农业      0.00       0   4687.27       1  -4687.27\n48  603458   勘设股份      0.00       0   5496.05       2  -5496.05\n49  002669   康达新材      0.00       0   5652.99       3  -5652.99\n50  000403   ST生化      0.00       0   6661.98       1  -6661.98\n51  002583    海能达   4006.71       1  10973.58       4  -6966.87\n52  002260   德奥通航      0.00       0   8542.12       6  -8542.12\n53  000889   茂业通信      0.00       0  15453.80       2 -15453.80\n"
     ]
    }
   ],
   "source": [
    "# ji gou xiwei \n",
    "inst_top = ts.inst_tops()\n",
    "print(inst_top)"
   ]
  },
  {
   "cell_type": "code",
   "execution_count": 39,
   "metadata": {
    "collapsed": false
   },
   "outputs": [
    {
     "name": "stdout",
     "output_type": "stream",
     "text": [
      "[Getting data:]"
     ]
    },
    {
     "name": "stdout",
     "output_type": "stream",
     "text": [
      "#"
     ]
    },
    {
     "name": "stdout",
     "output_type": "stream",
     "text": [
      "BeautifulSoup4 (bs4) not found, please install it\n"
     ]
    },
    {
     "name": "stdout",
     "output_type": "stream",
     "text": [
      "BeautifulSoup4 (bs4) not found, please install it\n"
     ]
    },
    {
     "name": "stdout",
     "output_type": "stream",
     "text": [
      "BeautifulSoup4 (bs4) not found, please install it\n"
     ]
    },
    {
     "ename": "TypeError",
     "evalue": "object of type 'NoneType' has no len()",
     "traceback": [
      "\u001b[0;31m---------------------------------------------------------------------------\u001b[0m",
      "\u001b[0;31mTypeError\u001b[0m                                 Traceback (most recent call last)",
      "\u001b[0;32m<ipython-input-39-d7100c991e4f>\u001b[0m in \u001b[0;36m<module>\u001b[0;34m()\u001b[0m\n\u001b[0;32m----> 1\u001b[0;31m \u001b[0minst_detail\u001b[0m \u001b[0;34m=\u001b[0m \u001b[0mts\u001b[0m\u001b[0;34m.\u001b[0m\u001b[0minst_detail\u001b[0m\u001b[0;34m(\u001b[0m\u001b[0;34m)\u001b[0m\u001b[0;34m\u001b[0m\u001b[0m\n\u001b[0m\u001b[1;32m      2\u001b[0m \u001b[0mprint\u001b[0m\u001b[0;34m(\u001b[0m\u001b[0minst_detail\u001b[0m\u001b[0;34m)\u001b[0m\u001b[0;34m\u001b[0m\u001b[0m\n",
      "\u001b[0;32m~/py3venv/lib/python3.5/site-packages/tushare/stock/billboard.py\u001b[0m in \u001b[0;36minst_detail\u001b[0;34m(retry_count, pause)\u001b[0m\n\u001b[1;32m    294\u001b[0m     df =  _inst_detail(pageNo=1, retry_count=retry_count,\n\u001b[1;32m    295\u001b[0m                         pause=pause)\n\u001b[0;32m--> 296\u001b[0;31m     \u001b[0;32mif\u001b[0m \u001b[0mlen\u001b[0m\u001b[0;34m(\u001b[0m\u001b[0mdf\u001b[0m\u001b[0;34m)\u001b[0m\u001b[0;34m>\u001b[0m\u001b[0;36m0\u001b[0m\u001b[0;34m:\u001b[0m\u001b[0;34m\u001b[0m\u001b[0m\n\u001b[0m\u001b[1;32m    297\u001b[0m         \u001b[0mdf\u001b[0m\u001b[0;34m[\u001b[0m\u001b[0;34m'code'\u001b[0m\u001b[0;34m]\u001b[0m \u001b[0;34m=\u001b[0m \u001b[0mdf\u001b[0m\u001b[0;34m[\u001b[0m\u001b[0;34m'code'\u001b[0m\u001b[0;34m]\u001b[0m\u001b[0;34m.\u001b[0m\u001b[0mmap\u001b[0m\u001b[0;34m(\u001b[0m\u001b[0;32mlambda\u001b[0m \u001b[0mx\u001b[0m\u001b[0;34m:\u001b[0m \u001b[0mstr\u001b[0m\u001b[0;34m(\u001b[0m\u001b[0mx\u001b[0m\u001b[0;34m)\u001b[0m\u001b[0;34m.\u001b[0m\u001b[0mzfill\u001b[0m\u001b[0;34m(\u001b[0m\u001b[0;36m6\u001b[0m\u001b[0;34m)\u001b[0m\u001b[0;34m)\u001b[0m\u001b[0;34m\u001b[0m\u001b[0m\n\u001b[1;32m    298\u001b[0m     \u001b[0;32mreturn\u001b[0m \u001b[0mdf\u001b[0m\u001b[0;34m\u001b[0m\u001b[0m\n",
      "\u001b[0;31mTypeError\u001b[0m: object of type 'NoneType' has no len()"
     ],
     "output_type": "error"
    }
   ],
   "source": [
    "inst_detail = ts.inst_detail()\n",
    "print(inst_detail)"
   ]
  },
  {
   "cell_type": "code",
   "execution_count": 29,
   "metadata": {},
   "outputs": [
    {
     "name": "stdout",
     "output_type": "stream",
     "text": [
      "               open     high    close      low      volume  price_change  \\\ndate                                                                       \n2017-11-08  3409.15  3434.49  3415.46  3404.88  1854364.75          1.89   \n2017-11-07  3389.47  3415.15  3413.57  3387.95  1905717.50         25.40   \n2017-11-06  3369.69  3389.38  3388.17  3356.53  1546364.62         16.43   \n\n            p_change       ma5      ma10      ma20       v_ma5      v_ma10  \\\ndate                                                                         \n2017-11-08      0.06  3394.450  3397.622  3389.991  1740447.47  1766663.15   \n2017-11-07      0.75  3390.540  3395.766  3388.631  1730706.77  1704357.90   \n2017-11-06      0.49  3386.494  3393.234  3387.103  1656559.67  1653683.66   \n\n                v_ma20  \ndate                    \n2017-11-08  1602446.40  \n2017-11-07  1600466.51  \n2017-11-06  1594892.56  \n"
     ]
    }
   ],
   "source": [
    "sh = ts.get_hist_data('sh')\n",
    "print(sh.head(3))"
   ]
  },
  {
   "cell_type": "code",
   "execution_count": 30,
   "metadata": {},
   "outputs": [
    {
     "name": "stdout",
     "output_type": "stream",
     "text": [
      "                open      high     close       low       volume  price_change  \\\ndate                                                                            \n2017-11-08  11460.15  11563.82  11447.40  11441.80  210038864.0        -20.57   \n2017-11-07  11374.09  11467.97  11467.97  11370.99  193616576.0         94.23   \n2017-11-06  11218.04  11373.74  11373.74  11181.29  178683584.0        158.55   \n\n            p_change        ma5       ma10       ma20        v_ma5  \\\ndate                                                                 \n2017-11-08     -0.18  11359.344  11373.307  11338.993  188657907.2   \n2017-11-07      0.83  11339.928  11372.288  11332.248  179247155.2   \n2017-11-06      1.41  11319.858  11359.404  11325.325  171721257.6   \n\n                 v_ma10       v_ma20  \ndate                                  \n2017-11-08  184647924.8  180530406.4  \n2017-11-07  179646240.0  181522778.4  \n2017-11-06  175912776.0  182563537.6  \n"
     ]
    }
   ],
   "source": [
    "sz = ts.get_hist_data('sz')\n",
    "print(sz.head(3))"
   ]
  },
  {
   "cell_type": "code",
   "execution_count": 50,
   "metadata": {},
   "outputs": [
    {
     "ename": "AttributeError",
     "evalue": "'NoneType' object has no attribute 'head'",
     "traceback": [
      "\u001b[0;31m---------------------------------------------------------------------------\u001b[0m",
      "\u001b[0;31mAttributeError\u001b[0m                            Traceback (most recent call last)",
      "\u001b[0;32m<ipython-input-50-c596da073d56>\u001b[0m in \u001b[0;36m<module>\u001b[0;34m()\u001b[0m\n\u001b[1;32m      1\u001b[0m \u001b[0msh300\u001b[0m \u001b[0;34m=\u001b[0m \u001b[0mts\u001b[0m\u001b[0;34m.\u001b[0m\u001b[0mget_hist_data\u001b[0m\u001b[0;34m(\u001b[0m\u001b[0;34m'sh300'\u001b[0m\u001b[0;34m)\u001b[0m\u001b[0;34m\u001b[0m\u001b[0m\n\u001b[0;32m----> 2\u001b[0;31m \u001b[0mprint\u001b[0m\u001b[0;34m(\u001b[0m\u001b[0msh300\u001b[0m\u001b[0;34m.\u001b[0m\u001b[0mhead\u001b[0m\u001b[0;34m(\u001b[0m\u001b[0;36m3\u001b[0m\u001b[0;34m)\u001b[0m\u001b[0;34m)\u001b[0m\u001b[0;34m\u001b[0m\u001b[0m\n\u001b[0m",
      "\u001b[0;31mAttributeError\u001b[0m: 'NoneType' object has no attribute 'head'"
     ],
     "output_type": "error"
    }
   ],
   "source": [
    "sh300 = ts.get_hist_data('sh300')\n",
    "print(sh300.head(3))"
   ]
  },
  {
   "cell_type": "code",
   "execution_count": 33,
   "metadata": {},
   "outputs": [
    {
     "name": "stdout",
     "output_type": "stream",
     "text": [
      "               open     high    close      low     volume  price_change  \\\ndate                                                                      \n2017-11-08  2818.67  2846.30  2819.96  2811.11  447685.31         -2.00   \n2017-11-07  2794.19  2832.14  2821.96  2792.70  493682.81         29.74   \n2017-11-06  2798.47  2798.47  2792.22  2776.95  332689.09         -8.25   \n\n            p_change       ma5      ma10      ma20      v_ma5     v_ma10  \\\ndate                                                                       \n2017-11-08     -0.07  2805.742  2800.624  2768.750  407677.50  412193.27   \n2017-11-07      1.06  2799.630  2793.842  2763.127  410548.70  387071.47   \n2017-11-06     -0.29  2793.980  2787.011  2756.806  376552.88  362574.01   \n\n               v_ma20  \ndate                   \n2017-11-08  317992.98  \n2017-11-07  307907.96  \n2017-11-06  298211.18  \n"
     ]
    }
   ],
   "source": [
    "sz50 = ts.get_hist_data('sz50')\n",
    "print(sz50.head(3))"
   ]
  },
  {
   "cell_type": "code",
   "execution_count": 35,
   "metadata": {},
   "outputs": [
    {
     "name": "stdout",
     "output_type": "stream",
     "text": [
      "               open     high    close      low      volume  price_change  \\\ndate                                                                       \n2017-11-08  7920.81  7994.01  7902.17  7893.48  25176126.0        -23.69   \n2017-11-07  7857.25  7925.86  7925.86  7856.15  22486236.0         76.95   \n2017-11-06  7760.54  7849.45  7848.91  7744.90  20157338.0         92.33   \n\n            p_change       ma5      ma10      ma20       v_ma5      v_ma10  \\\ndate                                                                         \n2017-11-08     -0.30  7845.580  7829.116  7797.104  21865586.0  21258318.8   \n2017-11-07      0.98  7827.552  7824.278  7788.430  20822428.8  20373436.4   \n2017-11-06      1.19  7807.798  7813.230  7776.882  20014349.6  19971636.6   \n\n                v_ma20  \ndate                    \n2017-11-08  20354701.3  \n2017-11-07  20502221.3  \n2017-11-06  20620334.5  \n"
     ]
    }
   ],
   "source": [
    "zxb = ts.get_hist_data('zxb')\n",
    "print(zxb.head(3))"
   ]
  },
  {
   "cell_type": "code",
   "execution_count": 36,
   "metadata": {},
   "outputs": [
    {
     "name": "stdout",
     "output_type": "stream",
     "text": [
      "               open     high    close      low      volume  price_change  \\\ndate                                                                       \n2017-11-08  1858.64  1881.05  1866.14  1856.39  17165896.0          7.07   \n2017-11-07  1849.32  1859.11  1859.07  1843.92  13502499.0          8.77   \n2017-11-06  1831.90  1850.30  1850.30  1818.41  11749014.0         17.33   \n\n            p_change       ma5      ma10      ma20       v_ma5      v_ma10  \\\ndate                                                                         \n2017-11-08      0.38  1851.210  1866.152  1878.597  13598904.4  13459089.9   \n2017-11-07      0.47  1852.532  1870.864  1880.368  12611910.6  12888783.8   \n2017-11-06      0.94  1854.676  1875.126  1883.288  12177254.6  12794915.2   \n\n                 v_ma20  \ndate                     \n2017-11-08  13472013.00  \n2017-11-07  13543816.90  \n2017-11-06  13849197.95  \n"
     ]
    }
   ],
   "source": [
    "cyb = ts.get_hist_data('cyb')\n",
    "print(cyb.head(3))"
   ]
  },
  {
   "cell_type": "code",
   "execution_count": 37,
   "metadata": {},
   "outputs": [
    {
     "name": "stdout",
     "output_type": "stream",
     "text": [
      "      code    name  change        open    preclose       close        high  \\\n0   000001    上证指数    0.06   3409.1474   3413.5748   3415.4602   3434.4918   \n1   000002    Ａ股指数    0.05   3570.3756   3575.0299   3576.9808   3596.9489   \n2   000003    Ｂ股指数    0.27    349.0151    348.9095    349.8617    350.8981   \n3   000008    综合指数    0.11   3114.7725   3119.0424   3122.5553   3144.1927   \n4   000009   上证380    0.09   5763.1035   5767.3801   5772.4772   5805.1542   \n5   000010   上证180   -0.04   8661.2659   8669.1285   8665.4547   8735.7308   \n6   000011    基金指数   -0.03   6254.4528   6255.0435   6253.3605   6279.2360   \n7   000012    国债指数   -0.01    160.8699    160.8545    160.8315    160.8702   \n8   000016    上证50   -0.07   2818.6698   2821.9558   2819.9571   2846.2997   \n9   000017     新综指    0.05   2878.8368   2882.5905   2884.1655   2900.2703   \n10  000300   沪深300   -0.15   4051.4935   4054.2465   4048.0057   4089.1457   \n11  399001    深证成指   -0.18  11460.1480  11467.9690  11447.4000  11563.8150   \n12  399002    深成指R   -0.18  13689.5310  13698.8730  13674.3030  13813.3650   \n13  399003    成份Ｂ指    0.61   6878.2480   6878.2480   6920.1350   6944.8450   \n14  399004  深证100R   -0.43   5846.8210   5847.6330   5822.6300   5910.1200   \n15  399005    中小板指   -0.30   7920.8150   7925.8610   7902.1700   7994.0050   \n16  399006    创业板指    0.38   1858.6430   1859.0680   1866.1420   1881.0470   \n17  399100   新 指 数    0.02   8979.4230   8986.6770   8988.4700   9060.6070   \n18  399101    中小板综    0.08  11920.8630  11930.8460  11940.4740  12033.6600   \n19  399106    深证综指    0.05   2011.0790   2012.7190   2013.7070   2029.6100   \n20  399107    深证Ａ指    0.05   2103.2870   2105.0060   2106.0150   2122.7070   \n21  399108    深证Ｂ指    0.38   1230.6470   1230.8990   1235.5360   1237.6270   \n22  399333    中小板R   -0.30   8723.4200   8728.9780   8702.8870   8804.0260   \n23  399606    创业板R    0.38   1935.9840   1936.4270   1943.7950   1959.3200   \n\n           low       volume   amount  \n0    3404.8811    185436470  2420.26  \n1    3565.8939    185067961  2417.88  \n2     348.6204       368509     2.38  \n3    3106.3068     44953101   585.76  \n4    5758.0450     44020984   566.17  \n5    8642.4751     84294668  1053.53  \n6    6250.0894     41696487   398.05  \n7     160.8312       230865     2.25  \n8    2811.1058     44768530   582.78  \n9    2875.2205    185046144  2417.28  \n10   4040.5772    150827719  2009.50  \n11  11441.7990  21003886898  3162.87  \n12  13667.6120  12050190859  1753.02  \n13   6857.6460     23350493     1.39  \n14   5819.0220   6667169729   992.04  \n15   7893.4750   2517612439   506.92  \n16   1856.3900   1716589653   275.71  \n17   8972.6380  20789238772  3148.52  \n18  11906.5370   8094244068  1295.18  \n19   2009.5370  21003886898  3162.87  \n20   2101.6700  20959915313  3160.36  \n21   1228.8660     43971585     2.51  \n22   8693.3100   2517612439   506.92  \n23   1933.6370   1716589653   275.71  \n"
     ]
    }
   ],
   "source": [
    "get_index = ts.get_index()\n",
    "print(get_index)"
   ]
  },
  {
   "cell_type": "code",
   "execution_count": 40,
   "metadata": {},
   "outputs": [
    {
     "name": "stdout",
     "output_type": "stream",
     "text": [
      "     code   name       oDate tDate\n0  600432  *ST吉恩  2003-09-05     -\n1  600806  *ST昆机  1994-01-03     -\n"
     ]
    }
   ],
   "source": [
    "# zan ting\n",
    "suspended = ts.get_suspended()\n",
    "print(suspended)"
   ]
  },
  {
   "cell_type": "code",
   "execution_count": 41,
   "metadata": {},
   "outputs": [
    {
     "name": "stdout",
     "output_type": "stream",
     "text": [
      "      code    name       oDate       tDate\n0   900949    东电B股  1997-09-22  2013-11-07\n1   600253    天方药业  2000-12-27  2013-07-15\n2   600991    广汽长丰  2004-06-14  2012-03-20\n3   600263    路桥建设  2000-07-25  2012-03-01\n4   600102    莱钢股份  1997-08-28  2012-02-28\n5   600631    百联股份  1993-02-26  2011-08-23\n6   600553    太行水泥  2002-08-22  2011-02-18\n7   600003   ST东北高  1999-08-10  2010-02-26\n8   600842    中西药业  1994-03-11  2010-02-12\n9   600607    上实医药  1992-03-27  2010-02-12\n10  600591   *ST上航  2002-10-11  2010-01-25\n11  600357    承德钒钛  2002-09-06  2009-12-29\n12  600001    邯郸钢铁  1998-01-22  2009-12-29\n13  600840    新湖创业  1994-03-11  2009-08-27\n14  600627    上电股份  1993-01-18  2008-11-26\n15  600656   *ST博元  1990-12-19  2008-07-01\n16  600472    包头铝业  2005-05-09  2007-12-26\n17  600065   *ST联谊  1997-05-23  2007-12-13\n18  600762  S*ST金荔  1996-10-25  2007-11-20\n19  600181  S*ST云大  1998-09-28  2007-06-01\n20  600286  S*ST国瓷  1999-12-09  2007-05-31\n21  600296     S兰铝  2000-07-19  2007-04-30\n22  600205    S山东铝  1999-06-30  2007-04-30\n23  600092  S*ST精密  1997-06-26  2006-11-30\n24  600772  S*ST龙昌  1996-11-04  2006-11-30\n25  600002    齐鲁退市  1998-04-08  2006-04-24\n26  600659   *ST花雕  1993-05-28  2006-03-23\n27  600799   *ST龙科  1997-04-16  2005-12-31\n28  600752   *ST哈慈  1996-09-25  2005-09-22\n29  600899   *ST信联  1996-04-26  2005-09-21\n30  600700   *ST数码  1996-04-30  2005-09-20\n31  600852   *ST中川  1994-04-04  2005-09-16\n32  600672   *ST华圣  1993-09-17  2005-08-05\n33  600788   *ST达曼  1996-12-30  2005-03-25\n34  600632    华联商厦  1992-02-19  2004-11-18\n35  600670   *ST斯达  1993-08-09  2004-09-24\n36  600878   *ST北科  1995-10-13  2004-09-15\n37  600669   *ST鞍成  1993-08-06  2004-09-15\n38  600646    ST国嘉  1993-05-04  2003-09-22\n39  600709    ST生态  1996-06-18  2003-05-23\n40  600813   ST鞍一工  1994-01-14  2002-09-16\n41  600625    PT水仙  1993-01-06  2001-04-23\n42  601268   *ST二重  2010-02-02           -\n43  601299    中国北车  2009-12-29           -\n44  600005    武钢股份  1999-08-03           -\n45  600786    东锅退市  1996-12-27           -\n46  600832    东方明珠  1994-02-24           -\n"
     ]
    }
   ],
   "source": [
    "#zongzhi\n",
    "terminated = ts.get_terminated()\n",
    "print(terminated)"
   ]
  },
  {
   "cell_type": "code",
   "execution_count": 42,
   "metadata": {},
   "outputs": [
    {
     "name": "stdout",
     "output_type": "stream",
     "text": [
      "No module named 'xlrd'\nNone\n"
     ]
    }
   ],
   "source": [
    "zz500s = ts.get_zz500s()\n",
    "print(zz500s)"
   ]
  },
  {
   "cell_type": "code",
   "execution_count": 44,
   "metadata": {},
   "outputs": [
    {
     "name": "stdout",
     "output_type": "stream",
     "text": [
      "No module named 'xlrd'\nNone\n"
     ]
    }
   ],
   "source": [
    "sz50s = ts.get_sz50s()\n",
    "print(sz50s)"
   ]
  },
  {
   "cell_type": "code",
   "execution_count": 46,
   "metadata": {},
   "outputs": [],
   "source": [
    "hs300s = ts.get_hs300s()\n",
    "print(hs300s)"
   ]
  },
  {
   "cell_type": "code",
   "execution_count": 49,
   "metadata": {},
   "outputs": [
    {
     "ename": "URLError",
     "evalue": "<urlopen error [Errno 111] Connection refused>",
     "traceback": [
      "\u001b[0;31m---------------------------------------------------------------------------\u001b[0m",
      "\u001b[0;31mConnectionRefusedError\u001b[0m                    Traceback (most recent call last)",
      "\u001b[0;32m/usr/local/python35/lib/python3.5/urllib/request.py\u001b[0m in \u001b[0;36mdo_open\u001b[0;34m(self, http_class, req, **http_conn_args)\u001b[0m\n\u001b[1;32m   1239\u001b[0m             \u001b[0;32mtry\u001b[0m\u001b[0;34m:\u001b[0m\u001b[0;34m\u001b[0m\u001b[0m\n\u001b[0;32m-> 1240\u001b[0;31m                 \u001b[0mh\u001b[0m\u001b[0;34m.\u001b[0m\u001b[0mrequest\u001b[0m\u001b[0;34m(\u001b[0m\u001b[0mreq\u001b[0m\u001b[0;34m.\u001b[0m\u001b[0mget_method\u001b[0m\u001b[0;34m(\u001b[0m\u001b[0;34m)\u001b[0m\u001b[0;34m,\u001b[0m \u001b[0mreq\u001b[0m\u001b[0;34m.\u001b[0m\u001b[0mselector\u001b[0m\u001b[0;34m,\u001b[0m \u001b[0mreq\u001b[0m\u001b[0;34m.\u001b[0m\u001b[0mdata\u001b[0m\u001b[0;34m,\u001b[0m \u001b[0mheaders\u001b[0m\u001b[0;34m)\u001b[0m\u001b[0;34m\u001b[0m\u001b[0m\n\u001b[0m\u001b[1;32m   1241\u001b[0m             \u001b[0;32mexcept\u001b[0m \u001b[0mOSError\u001b[0m \u001b[0;32mas\u001b[0m \u001b[0merr\u001b[0m\u001b[0;34m:\u001b[0m \u001b[0;31m# timeout error\u001b[0m\u001b[0;34m\u001b[0m\u001b[0m\n",
      "\u001b[0;32m/usr/local/python35/lib/python3.5/http/client.py\u001b[0m in \u001b[0;36mrequest\u001b[0;34m(self, method, url, body, headers)\u001b[0m\n\u001b[1;32m   1082\u001b[0m         \u001b[0;34m\"\"\"Send a complete request to the server.\"\"\"\u001b[0m\u001b[0;34m\u001b[0m\u001b[0m\n\u001b[0;32m-> 1083\u001b[0;31m         \u001b[0mself\u001b[0m\u001b[0;34m.\u001b[0m\u001b[0m_send_request\u001b[0m\u001b[0;34m(\u001b[0m\u001b[0mmethod\u001b[0m\u001b[0;34m,\u001b[0m \u001b[0murl\u001b[0m\u001b[0;34m,\u001b[0m \u001b[0mbody\u001b[0m\u001b[0;34m,\u001b[0m \u001b[0mheaders\u001b[0m\u001b[0;34m)\u001b[0m\u001b[0;34m\u001b[0m\u001b[0m\n\u001b[0m\u001b[1;32m   1084\u001b[0m \u001b[0;34m\u001b[0m\u001b[0m\n",
      "\u001b[0;32m/usr/local/python35/lib/python3.5/http/client.py\u001b[0m in \u001b[0;36m_send_request\u001b[0;34m(self, method, url, body, headers)\u001b[0m\n\u001b[1;32m   1127\u001b[0m             \u001b[0mbody\u001b[0m \u001b[0;34m=\u001b[0m \u001b[0mbody\u001b[0m\u001b[0;34m.\u001b[0m\u001b[0mencode\u001b[0m\u001b[0;34m(\u001b[0m\u001b[0;34m'iso-8859-1'\u001b[0m\u001b[0;34m)\u001b[0m\u001b[0;34m\u001b[0m\u001b[0m\n\u001b[0;32m-> 1128\u001b[0;31m         \u001b[0mself\u001b[0m\u001b[0;34m.\u001b[0m\u001b[0mendheaders\u001b[0m\u001b[0;34m(\u001b[0m\u001b[0mbody\u001b[0m\u001b[0;34m)\u001b[0m\u001b[0;34m\u001b[0m\u001b[0m\n\u001b[0m\u001b[1;32m   1129\u001b[0m \u001b[0;34m\u001b[0m\u001b[0m\n",
      "\u001b[0;32m/usr/local/python35/lib/python3.5/http/client.py\u001b[0m in \u001b[0;36mendheaders\u001b[0;34m(self, message_body)\u001b[0m\n\u001b[1;32m   1078\u001b[0m             \u001b[0;32mraise\u001b[0m \u001b[0mCannotSendHeader\u001b[0m\u001b[0;34m(\u001b[0m\u001b[0;34m)\u001b[0m\u001b[0;34m\u001b[0m\u001b[0m\n\u001b[0;32m-> 1079\u001b[0;31m         \u001b[0mself\u001b[0m\u001b[0;34m.\u001b[0m\u001b[0m_send_output\u001b[0m\u001b[0;34m(\u001b[0m\u001b[0mmessage_body\u001b[0m\u001b[0;34m)\u001b[0m\u001b[0;34m\u001b[0m\u001b[0m\n\u001b[0m\u001b[1;32m   1080\u001b[0m \u001b[0;34m\u001b[0m\u001b[0m\n",
      "\u001b[0;32m/usr/local/python35/lib/python3.5/http/client.py\u001b[0m in \u001b[0;36m_send_output\u001b[0;34m(self, message_body)\u001b[0m\n\u001b[1;32m    910\u001b[0m \u001b[0;34m\u001b[0m\u001b[0m\n\u001b[0;32m--> 911\u001b[0;31m         \u001b[0mself\u001b[0m\u001b[0;34m.\u001b[0m\u001b[0msend\u001b[0m\u001b[0;34m(\u001b[0m\u001b[0mmsg\u001b[0m\u001b[0;34m)\u001b[0m\u001b[0;34m\u001b[0m\u001b[0m\n\u001b[0m\u001b[1;32m    912\u001b[0m         \u001b[0;32mif\u001b[0m \u001b[0mmessage_body\u001b[0m \u001b[0;32mis\u001b[0m \u001b[0;32mnot\u001b[0m \u001b[0;32mNone\u001b[0m\u001b[0;34m:\u001b[0m\u001b[0;34m\u001b[0m\u001b[0m\n",
      "\u001b[0;32m/usr/local/python35/lib/python3.5/http/client.py\u001b[0m in \u001b[0;36msend\u001b[0;34m(self, data)\u001b[0m\n\u001b[1;32m    853\u001b[0m             \u001b[0;32mif\u001b[0m \u001b[0mself\u001b[0m\u001b[0;34m.\u001b[0m\u001b[0mauto_open\u001b[0m\u001b[0;34m:\u001b[0m\u001b[0;34m\u001b[0m\u001b[0m\n\u001b[0;32m--> 854\u001b[0;31m                 \u001b[0mself\u001b[0m\u001b[0;34m.\u001b[0m\u001b[0mconnect\u001b[0m\u001b[0;34m(\u001b[0m\u001b[0;34m)\u001b[0m\u001b[0;34m\u001b[0m\u001b[0m\n\u001b[0m\u001b[1;32m    855\u001b[0m             \u001b[0;32melse\u001b[0m\u001b[0;34m:\u001b[0m\u001b[0;34m\u001b[0m\u001b[0m\n",
      "\u001b[0;32m/usr/local/python35/lib/python3.5/http/client.py\u001b[0m in \u001b[0;36mconnect\u001b[0;34m(self)\u001b[0m\n\u001b[1;32m    825\u001b[0m         self.sock = self._create_connection(\n\u001b[0;32m--> 826\u001b[0;31m             (self.host,self.port), self.timeout, self.source_address)\n\u001b[0m\u001b[1;32m    827\u001b[0m         \u001b[0mself\u001b[0m\u001b[0;34m.\u001b[0m\u001b[0msock\u001b[0m\u001b[0;34m.\u001b[0m\u001b[0msetsockopt\u001b[0m\u001b[0;34m(\u001b[0m\u001b[0msocket\u001b[0m\u001b[0;34m.\u001b[0m\u001b[0mIPPROTO_TCP\u001b[0m\u001b[0;34m,\u001b[0m \u001b[0msocket\u001b[0m\u001b[0;34m.\u001b[0m\u001b[0mTCP_NODELAY\u001b[0m\u001b[0;34m,\u001b[0m \u001b[0;36m1\u001b[0m\u001b[0;34m)\u001b[0m\u001b[0;34m\u001b[0m\u001b[0m\n",
      "\u001b[0;32m/usr/local/python35/lib/python3.5/socket.py\u001b[0m in \u001b[0;36mcreate_connection\u001b[0;34m(address, timeout, source_address)\u001b[0m\n\u001b[1;32m    710\u001b[0m     \u001b[0;32mif\u001b[0m \u001b[0merr\u001b[0m \u001b[0;32mis\u001b[0m \u001b[0;32mnot\u001b[0m \u001b[0;32mNone\u001b[0m\u001b[0;34m:\u001b[0m\u001b[0;34m\u001b[0m\u001b[0m\n\u001b[0;32m--> 711\u001b[0;31m         \u001b[0;32mraise\u001b[0m \u001b[0merr\u001b[0m\u001b[0;34m\u001b[0m\u001b[0m\n\u001b[0m\u001b[1;32m    712\u001b[0m     \u001b[0;32melse\u001b[0m\u001b[0;34m:\u001b[0m\u001b[0;34m\u001b[0m\u001b[0m\n",
      "\u001b[0;32m/usr/local/python35/lib/python3.5/socket.py\u001b[0m in \u001b[0;36mcreate_connection\u001b[0;34m(address, timeout, source_address)\u001b[0m\n\u001b[1;32m    701\u001b[0m                 \u001b[0msock\u001b[0m\u001b[0;34m.\u001b[0m\u001b[0mbind\u001b[0m\u001b[0;34m(\u001b[0m\u001b[0msource_address\u001b[0m\u001b[0;34m)\u001b[0m\u001b[0;34m\u001b[0m\u001b[0m\n\u001b[0;32m--> 702\u001b[0;31m             \u001b[0msock\u001b[0m\u001b[0;34m.\u001b[0m\u001b[0mconnect\u001b[0m\u001b[0;34m(\u001b[0m\u001b[0msa\u001b[0m\u001b[0;34m)\u001b[0m\u001b[0;34m\u001b[0m\u001b[0m\n\u001b[0m\u001b[1;32m    703\u001b[0m             \u001b[0;32mreturn\u001b[0m \u001b[0msock\u001b[0m\u001b[0;34m\u001b[0m\u001b[0m\n",
      "\u001b[0;31mConnectionRefusedError\u001b[0m: [Errno 111] Connection refused",
      "\nDuring handling of the above exception, another exception occurred:\n",
      "\u001b[0;31mURLError\u001b[0m                                  Traceback (most recent call last)",
      "\u001b[0;32m<ipython-input-49-033ca6d4e9b1>\u001b[0m in \u001b[0;36m<module>\u001b[0;34m()\u001b[0m\n\u001b[0;32m----> 1\u001b[0;31m \u001b[0mst\u001b[0m \u001b[0;34m=\u001b[0m \u001b[0mts\u001b[0m\u001b[0;34m.\u001b[0m\u001b[0mget_gem_classified\u001b[0m\u001b[0;34m(\u001b[0m\u001b[0;34m)\u001b[0m\u001b[0;34m\u001b[0m\u001b[0m\n\u001b[0m\u001b[1;32m      2\u001b[0m \u001b[0mprint\u001b[0m\u001b[0;34m(\u001b[0m\u001b[0mst\u001b[0m\u001b[0;34m)\u001b[0m\u001b[0;34m\u001b[0m\u001b[0m\n",
      "\u001b[0;32m~/py3venv/lib/python3.5/site-packages/tushare/stock/classifying.py\u001b[0m in \u001b[0;36mget_gem_classified\u001b[0;34m()\u001b[0m\n\u001b[1;32m     94\u001b[0m         \u001b[0mname\u001b[0m \u001b[0;34m:\u001b[0m\u001b[0m股票名称\u001b[0m\u001b[0;34m\u001b[0m\u001b[0m\n\u001b[1;32m     95\u001b[0m     \"\"\"\n\u001b[0;32m---> 96\u001b[0;31m     \u001b[0mdf\u001b[0m \u001b[0;34m=\u001b[0m \u001b[0mfd\u001b[0m\u001b[0;34m.\u001b[0m\u001b[0mget_stock_basics\u001b[0m\u001b[0;34m(\u001b[0m\u001b[0;34m)\u001b[0m\u001b[0;34m\u001b[0m\u001b[0m\n\u001b[0m\u001b[1;32m     97\u001b[0m     \u001b[0mdf\u001b[0m\u001b[0;34m.\u001b[0m\u001b[0mreset_index\u001b[0m\u001b[0;34m(\u001b[0m\u001b[0mlevel\u001b[0m\u001b[0;34m=\u001b[0m\u001b[0;36m0\u001b[0m\u001b[0;34m,\u001b[0m \u001b[0minplace\u001b[0m\u001b[0;34m=\u001b[0m\u001b[0;32mTrue\u001b[0m\u001b[0;34m)\u001b[0m\u001b[0;34m\u001b[0m\u001b[0m\n\u001b[1;32m     98\u001b[0m     \u001b[0mdf\u001b[0m \u001b[0;34m=\u001b[0m \u001b[0mdf\u001b[0m\u001b[0;34m[\u001b[0m\u001b[0mct\u001b[0m\u001b[0;34m.\u001b[0m\u001b[0mFOR_CLASSIFY_B_COLS\u001b[0m\u001b[0;34m]\u001b[0m\u001b[0;34m\u001b[0m\u001b[0m\n",
      "\u001b[0;32m~/py3venv/lib/python3.5/site-packages/tushare/stock/fundamental.py\u001b[0m in \u001b[0;36mget_stock_basics\u001b[0;34m()\u001b[0m\n\u001b[1;32m     42\u001b[0m     \"\"\"\n\u001b[1;32m     43\u001b[0m     \u001b[0mrequest\u001b[0m \u001b[0;34m=\u001b[0m \u001b[0mRequest\u001b[0m\u001b[0;34m(\u001b[0m\u001b[0mct\u001b[0m\u001b[0;34m.\u001b[0m\u001b[0mALL_STOCK_BASICS_FILE\u001b[0m\u001b[0;34m)\u001b[0m\u001b[0;34m\u001b[0m\u001b[0m\n\u001b[0;32m---> 44\u001b[0;31m     \u001b[0mtext\u001b[0m \u001b[0;34m=\u001b[0m \u001b[0murlopen\u001b[0m\u001b[0;34m(\u001b[0m\u001b[0mrequest\u001b[0m\u001b[0;34m,\u001b[0m \u001b[0mtimeout\u001b[0m\u001b[0;34m=\u001b[0m\u001b[0;36m10\u001b[0m\u001b[0;34m)\u001b[0m\u001b[0;34m.\u001b[0m\u001b[0mread\u001b[0m\u001b[0;34m(\u001b[0m\u001b[0;34m)\u001b[0m\u001b[0;34m\u001b[0m\u001b[0m\n\u001b[0m\u001b[1;32m     45\u001b[0m     \u001b[0mtext\u001b[0m \u001b[0;34m=\u001b[0m \u001b[0mtext\u001b[0m\u001b[0;34m.\u001b[0m\u001b[0mdecode\u001b[0m\u001b[0;34m(\u001b[0m\u001b[0;34m'GBK'\u001b[0m\u001b[0;34m)\u001b[0m\u001b[0;34m\u001b[0m\u001b[0m\n\u001b[1;32m     46\u001b[0m     \u001b[0mtext\u001b[0m \u001b[0;34m=\u001b[0m \u001b[0mtext\u001b[0m\u001b[0;34m.\u001b[0m\u001b[0mreplace\u001b[0m\u001b[0;34m(\u001b[0m\u001b[0;34m'--'\u001b[0m\u001b[0;34m,\u001b[0m \u001b[0;34m''\u001b[0m\u001b[0;34m)\u001b[0m\u001b[0;34m\u001b[0m\u001b[0m\n",
      "\u001b[0;32m/usr/local/python35/lib/python3.5/urllib/request.py\u001b[0m in \u001b[0;36murlopen\u001b[0;34m(url, data, timeout, cafile, capath, cadefault, context)\u001b[0m\n\u001b[1;32m    160\u001b[0m     \u001b[0;32melse\u001b[0m\u001b[0;34m:\u001b[0m\u001b[0;34m\u001b[0m\u001b[0m\n\u001b[1;32m    161\u001b[0m         \u001b[0mopener\u001b[0m \u001b[0;34m=\u001b[0m \u001b[0m_opener\u001b[0m\u001b[0;34m\u001b[0m\u001b[0m\n\u001b[0;32m--> 162\u001b[0;31m     \u001b[0;32mreturn\u001b[0m \u001b[0mopener\u001b[0m\u001b[0;34m.\u001b[0m\u001b[0mopen\u001b[0m\u001b[0;34m(\u001b[0m\u001b[0murl\u001b[0m\u001b[0;34m,\u001b[0m \u001b[0mdata\u001b[0m\u001b[0;34m,\u001b[0m \u001b[0mtimeout\u001b[0m\u001b[0;34m)\u001b[0m\u001b[0;34m\u001b[0m\u001b[0m\n\u001b[0m\u001b[1;32m    163\u001b[0m \u001b[0;34m\u001b[0m\u001b[0m\n\u001b[1;32m    164\u001b[0m \u001b[0;32mdef\u001b[0m \u001b[0minstall_opener\u001b[0m\u001b[0;34m(\u001b[0m\u001b[0mopener\u001b[0m\u001b[0;34m)\u001b[0m\u001b[0;34m:\u001b[0m\u001b[0;34m\u001b[0m\u001b[0m\n",
      "\u001b[0;32m/usr/local/python35/lib/python3.5/urllib/request.py\u001b[0m in \u001b[0;36mopen\u001b[0;34m(self, fullurl, data, timeout)\u001b[0m\n\u001b[1;32m    463\u001b[0m             \u001b[0mreq\u001b[0m \u001b[0;34m=\u001b[0m \u001b[0mmeth\u001b[0m\u001b[0;34m(\u001b[0m\u001b[0mreq\u001b[0m\u001b[0;34m)\u001b[0m\u001b[0;34m\u001b[0m\u001b[0m\n\u001b[1;32m    464\u001b[0m \u001b[0;34m\u001b[0m\u001b[0m\n\u001b[0;32m--> 465\u001b[0;31m         \u001b[0mresponse\u001b[0m \u001b[0;34m=\u001b[0m \u001b[0mself\u001b[0m\u001b[0;34m.\u001b[0m\u001b[0m_open\u001b[0m\u001b[0;34m(\u001b[0m\u001b[0mreq\u001b[0m\u001b[0;34m,\u001b[0m \u001b[0mdata\u001b[0m\u001b[0;34m)\u001b[0m\u001b[0;34m\u001b[0m\u001b[0m\n\u001b[0m\u001b[1;32m    466\u001b[0m \u001b[0;34m\u001b[0m\u001b[0m\n\u001b[1;32m    467\u001b[0m         \u001b[0;31m# post-process response\u001b[0m\u001b[0;34m\u001b[0m\u001b[0;34m\u001b[0m\u001b[0m\n",
      "\u001b[0;32m/usr/local/python35/lib/python3.5/urllib/request.py\u001b[0m in \u001b[0;36m_open\u001b[0;34m(self, req, data)\u001b[0m\n\u001b[1;32m    481\u001b[0m         \u001b[0mprotocol\u001b[0m \u001b[0;34m=\u001b[0m \u001b[0mreq\u001b[0m\u001b[0;34m.\u001b[0m\u001b[0mtype\u001b[0m\u001b[0;34m\u001b[0m\u001b[0m\n\u001b[1;32m    482\u001b[0m         result = self._call_chain(self.handle_open, protocol, protocol +\n\u001b[0;32m--> 483\u001b[0;31m                                   '_open', req)\n\u001b[0m\u001b[1;32m    484\u001b[0m         \u001b[0;32mif\u001b[0m \u001b[0mresult\u001b[0m\u001b[0;34m:\u001b[0m\u001b[0;34m\u001b[0m\u001b[0m\n\u001b[1;32m    485\u001b[0m             \u001b[0;32mreturn\u001b[0m \u001b[0mresult\u001b[0m\u001b[0;34m\u001b[0m\u001b[0m\n",
      "\u001b[0;32m/usr/local/python35/lib/python3.5/urllib/request.py\u001b[0m in \u001b[0;36m_call_chain\u001b[0;34m(self, chain, kind, meth_name, *args)\u001b[0m\n\u001b[1;32m    441\u001b[0m         \u001b[0;32mfor\u001b[0m \u001b[0mhandler\u001b[0m \u001b[0;32min\u001b[0m \u001b[0mhandlers\u001b[0m\u001b[0;34m:\u001b[0m\u001b[0;34m\u001b[0m\u001b[0m\n\u001b[1;32m    442\u001b[0m             \u001b[0mfunc\u001b[0m \u001b[0;34m=\u001b[0m \u001b[0mgetattr\u001b[0m\u001b[0;34m(\u001b[0m\u001b[0mhandler\u001b[0m\u001b[0;34m,\u001b[0m \u001b[0mmeth_name\u001b[0m\u001b[0;34m)\u001b[0m\u001b[0;34m\u001b[0m\u001b[0m\n\u001b[0;32m--> 443\u001b[0;31m             \u001b[0mresult\u001b[0m \u001b[0;34m=\u001b[0m \u001b[0mfunc\u001b[0m\u001b[0;34m(\u001b[0m\u001b[0;34m*\u001b[0m\u001b[0margs\u001b[0m\u001b[0;34m)\u001b[0m\u001b[0;34m\u001b[0m\u001b[0m\n\u001b[0m\u001b[1;32m    444\u001b[0m             \u001b[0;32mif\u001b[0m \u001b[0mresult\u001b[0m \u001b[0;32mis\u001b[0m \u001b[0;32mnot\u001b[0m \u001b[0;32mNone\u001b[0m\u001b[0;34m:\u001b[0m\u001b[0;34m\u001b[0m\u001b[0m\n\u001b[1;32m    445\u001b[0m                 \u001b[0;32mreturn\u001b[0m \u001b[0mresult\u001b[0m\u001b[0;34m\u001b[0m\u001b[0m\n",
      "\u001b[0;32m/usr/local/python35/lib/python3.5/urllib/request.py\u001b[0m in \u001b[0;36mhttp_open\u001b[0;34m(self, req)\u001b[0m\n\u001b[1;32m   1266\u001b[0m \u001b[0;34m\u001b[0m\u001b[0m\n\u001b[1;32m   1267\u001b[0m     \u001b[0;32mdef\u001b[0m \u001b[0mhttp_open\u001b[0m\u001b[0;34m(\u001b[0m\u001b[0mself\u001b[0m\u001b[0;34m,\u001b[0m \u001b[0mreq\u001b[0m\u001b[0;34m)\u001b[0m\u001b[0;34m:\u001b[0m\u001b[0;34m\u001b[0m\u001b[0m\n\u001b[0;32m-> 1268\u001b[0;31m         \u001b[0;32mreturn\u001b[0m \u001b[0mself\u001b[0m\u001b[0;34m.\u001b[0m\u001b[0mdo_open\u001b[0m\u001b[0;34m(\u001b[0m\u001b[0mhttp\u001b[0m\u001b[0;34m.\u001b[0m\u001b[0mclient\u001b[0m\u001b[0;34m.\u001b[0m\u001b[0mHTTPConnection\u001b[0m\u001b[0;34m,\u001b[0m \u001b[0mreq\u001b[0m\u001b[0;34m)\u001b[0m\u001b[0;34m\u001b[0m\u001b[0m\n\u001b[0m\u001b[1;32m   1269\u001b[0m \u001b[0;34m\u001b[0m\u001b[0m\n\u001b[1;32m   1270\u001b[0m     \u001b[0mhttp_request\u001b[0m \u001b[0;34m=\u001b[0m \u001b[0mAbstractHTTPHandler\u001b[0m\u001b[0;34m.\u001b[0m\u001b[0mdo_request_\u001b[0m\u001b[0;34m\u001b[0m\u001b[0m\n",
      "\u001b[0;32m/usr/local/python35/lib/python3.5/urllib/request.py\u001b[0m in \u001b[0;36mdo_open\u001b[0;34m(self, http_class, req, **http_conn_args)\u001b[0m\n\u001b[1;32m   1240\u001b[0m                 \u001b[0mh\u001b[0m\u001b[0;34m.\u001b[0m\u001b[0mrequest\u001b[0m\u001b[0;34m(\u001b[0m\u001b[0mreq\u001b[0m\u001b[0;34m.\u001b[0m\u001b[0mget_method\u001b[0m\u001b[0;34m(\u001b[0m\u001b[0;34m)\u001b[0m\u001b[0;34m,\u001b[0m \u001b[0mreq\u001b[0m\u001b[0;34m.\u001b[0m\u001b[0mselector\u001b[0m\u001b[0;34m,\u001b[0m \u001b[0mreq\u001b[0m\u001b[0;34m.\u001b[0m\u001b[0mdata\u001b[0m\u001b[0;34m,\u001b[0m \u001b[0mheaders\u001b[0m\u001b[0;34m)\u001b[0m\u001b[0;34m\u001b[0m\u001b[0m\n\u001b[1;32m   1241\u001b[0m             \u001b[0;32mexcept\u001b[0m \u001b[0mOSError\u001b[0m \u001b[0;32mas\u001b[0m \u001b[0merr\u001b[0m\u001b[0;34m:\u001b[0m \u001b[0;31m# timeout error\u001b[0m\u001b[0;34m\u001b[0m\u001b[0m\n\u001b[0;32m-> 1242\u001b[0;31m                 \u001b[0;32mraise\u001b[0m \u001b[0mURLError\u001b[0m\u001b[0;34m(\u001b[0m\u001b[0merr\u001b[0m\u001b[0;34m)\u001b[0m\u001b[0;34m\u001b[0m\u001b[0m\n\u001b[0m\u001b[1;32m   1243\u001b[0m             \u001b[0mr\u001b[0m \u001b[0;34m=\u001b[0m \u001b[0mh\u001b[0m\u001b[0;34m.\u001b[0m\u001b[0mgetresponse\u001b[0m\u001b[0;34m(\u001b[0m\u001b[0;34m)\u001b[0m\u001b[0;34m\u001b[0m\u001b[0m\n\u001b[1;32m   1244\u001b[0m         \u001b[0;32mexcept\u001b[0m\u001b[0;34m:\u001b[0m\u001b[0;34m\u001b[0m\u001b[0m\n",
      "\u001b[0;31mURLError\u001b[0m: <urlopen error [Errno 111] Connection refused>"
     ],
     "output_type": "error"
    }
   ],
   "source": [
    "st = ts.get_gem_classified()\n",
    "print(st)"
   ]
  },
  {
   "cell_type": "code",
   "execution_count": 50,
   "metadata": {},
   "outputs": [],
   "source": []
  },
  {
   "cell_type": "code",
   "execution_count": null,
   "metadata": {},
   "outputs": [],
   "source": []
  }
 ],
 "metadata": {
  "kernelspec": {
   "display_name": "Python 2",
   "language": "python",
   "name": "python2"
  },
  "language_info": {
   "codemirror_mode": {
    "name": "ipython",
    "version": 2
   },
   "file_extension": ".py",
   "mimetype": "text/x-python",
   "name": "python",
   "nbconvert_exporter": "python",
   "pygments_lexer": "ipython2",
   "version": "2.7.6"
  }
 },
 "nbformat": 4,
 "nbformat_minor": 0
}
